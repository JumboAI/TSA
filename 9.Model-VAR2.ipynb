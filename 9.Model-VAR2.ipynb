{
 "cells": [
  {
   "cell_type": "code",
   "execution_count": 1,
   "id": "56383106-4148-46d0-84de-a2e5fd043922",
   "metadata": {},
   "outputs": [
    {
     "name": "stdout",
     "output_type": "stream",
     "text": [
      "              Open    High     Low   Close\n",
      "Date                                      \n",
      "2021-07-01  188.60  189.00  183.00  184.55\n",
      "2021-07-02  183.05  187.50  182.15  186.40\n",
      "2021-07-05  187.85  198.35  187.85  192.45\n",
      "2021-07-06  193.80  194.80  187.35  188.80\n",
      "2021-07-07  187.80  193.95  185.40  192.85\n",
      "...            ...     ...     ...     ...\n",
      "2021-12-22  202.90  207.80  201.35  205.00\n",
      "2021-12-23  206.00  206.85  202.05  202.95\n",
      "2021-12-24  203.90  203.90  199.35  201.00\n",
      "2021-12-27  200.00  222.00  196.00  218.35\n",
      "2021-12-28  219.65  220.45  211.55  212.35\n",
      "\n",
      "[123 rows x 4 columns]\n"
     ]
    }
   ],
   "source": [
    "import pandas as pd\n",
    "import datetime as dt\n",
    "\n",
    "# Define the start and end dates\n",
    "start = dt.datetime(2021, 7, 1)\n",
    "end = dt.datetime(2021, 12, 28)\n",
    "\n",
    "# Load the CSV file and set 'Date' as the index\n",
    "data = pd.read_csv('Tatacoffee13_21.csv', parse_dates=['Date'], index_col='Date')\n",
    "\n",
    "# Filter the data based on the index\n",
    "stk_data = data[(data.index >= start) & (data.index <= end)]\n",
    "\n",
    "# Display the filtered data\n",
    "print(stk_data)"
   ]
  },
  {
   "cell_type": "code",
   "execution_count": 2,
   "id": "9ba9743a-af95-4ae3-b7a6-ac8cd617f2bf",
   "metadata": {},
   "outputs": [],
   "source": [
    "\n",
    "stk_data=stk_data[[\"Open\",\"High\",\"Low\",\"Close\"]]"
   ]
  },
  {
   "cell_type": "code",
   "execution_count": 3,
   "id": "deeb89bd-bb7b-41b6-a0df-4948965fa1ef",
   "metadata": {},
   "outputs": [
    {
     "data": {
      "text/html": [
       "<div>\n",
       "<style scoped>\n",
       "    .dataframe tbody tr th:only-of-type {\n",
       "        vertical-align: middle;\n",
       "    }\n",
       "\n",
       "    .dataframe tbody tr th {\n",
       "        vertical-align: top;\n",
       "    }\n",
       "\n",
       "    .dataframe thead th {\n",
       "        text-align: right;\n",
       "    }\n",
       "</style>\n",
       "<table border=\"1\" class=\"dataframe\">\n",
       "  <thead>\n",
       "    <tr style=\"text-align: right;\">\n",
       "      <th></th>\n",
       "      <th>Open</th>\n",
       "      <th>High</th>\n",
       "      <th>Low</th>\n",
       "      <th>Close</th>\n",
       "    </tr>\n",
       "    <tr>\n",
       "      <th>Date</th>\n",
       "      <th></th>\n",
       "      <th></th>\n",
       "      <th></th>\n",
       "      <th></th>\n",
       "    </tr>\n",
       "  </thead>\n",
       "  <tbody>\n",
       "    <tr>\n",
       "      <th>2021-07-01</th>\n",
       "      <td>188.60</td>\n",
       "      <td>189.00</td>\n",
       "      <td>183.00</td>\n",
       "      <td>184.55</td>\n",
       "    </tr>\n",
       "    <tr>\n",
       "      <th>2021-07-02</th>\n",
       "      <td>183.05</td>\n",
       "      <td>187.50</td>\n",
       "      <td>182.15</td>\n",
       "      <td>186.40</td>\n",
       "    </tr>\n",
       "    <tr>\n",
       "      <th>2021-07-05</th>\n",
       "      <td>187.85</td>\n",
       "      <td>198.35</td>\n",
       "      <td>187.85</td>\n",
       "      <td>192.45</td>\n",
       "    </tr>\n",
       "    <tr>\n",
       "      <th>2021-07-06</th>\n",
       "      <td>193.80</td>\n",
       "      <td>194.80</td>\n",
       "      <td>187.35</td>\n",
       "      <td>188.80</td>\n",
       "    </tr>\n",
       "    <tr>\n",
       "      <th>2021-07-07</th>\n",
       "      <td>187.80</td>\n",
       "      <td>193.95</td>\n",
       "      <td>185.40</td>\n",
       "      <td>192.85</td>\n",
       "    </tr>\n",
       "    <tr>\n",
       "      <th>...</th>\n",
       "      <td>...</td>\n",
       "      <td>...</td>\n",
       "      <td>...</td>\n",
       "      <td>...</td>\n",
       "    </tr>\n",
       "    <tr>\n",
       "      <th>2021-12-22</th>\n",
       "      <td>202.90</td>\n",
       "      <td>207.80</td>\n",
       "      <td>201.35</td>\n",
       "      <td>205.00</td>\n",
       "    </tr>\n",
       "    <tr>\n",
       "      <th>2021-12-23</th>\n",
       "      <td>206.00</td>\n",
       "      <td>206.85</td>\n",
       "      <td>202.05</td>\n",
       "      <td>202.95</td>\n",
       "    </tr>\n",
       "    <tr>\n",
       "      <th>2021-12-24</th>\n",
       "      <td>203.90</td>\n",
       "      <td>203.90</td>\n",
       "      <td>199.35</td>\n",
       "      <td>201.00</td>\n",
       "    </tr>\n",
       "    <tr>\n",
       "      <th>2021-12-27</th>\n",
       "      <td>200.00</td>\n",
       "      <td>222.00</td>\n",
       "      <td>196.00</td>\n",
       "      <td>218.35</td>\n",
       "    </tr>\n",
       "    <tr>\n",
       "      <th>2021-12-28</th>\n",
       "      <td>219.65</td>\n",
       "      <td>220.45</td>\n",
       "      <td>211.55</td>\n",
       "      <td>212.35</td>\n",
       "    </tr>\n",
       "  </tbody>\n",
       "</table>\n",
       "<p>123 rows × 4 columns</p>\n",
       "</div>"
      ],
      "text/plain": [
       "              Open    High     Low   Close\n",
       "Date                                      \n",
       "2021-07-01  188.60  189.00  183.00  184.55\n",
       "2021-07-02  183.05  187.50  182.15  186.40\n",
       "2021-07-05  187.85  198.35  187.85  192.45\n",
       "2021-07-06  193.80  194.80  187.35  188.80\n",
       "2021-07-07  187.80  193.95  185.40  192.85\n",
       "...            ...     ...     ...     ...\n",
       "2021-12-22  202.90  207.80  201.35  205.00\n",
       "2021-12-23  206.00  206.85  202.05  202.95\n",
       "2021-12-24  203.90  203.90  199.35  201.00\n",
       "2021-12-27  200.00  222.00  196.00  218.35\n",
       "2021-12-28  219.65  220.45  211.55  212.35\n",
       "\n",
       "[123 rows x 4 columns]"
      ]
     },
     "execution_count": 3,
     "metadata": {},
     "output_type": "execute_result"
    }
   ],
   "source": [
    "stk_data"
   ]
  },
  {
   "cell_type": "code",
   "execution_count": 4,
   "id": "98312ef3-cd22-4724-974b-84e5fe9a2bdd",
   "metadata": {},
   "outputs": [
    {
     "data": {
      "text/plain": [
       "DatetimeIndex(['2021-07-01', '2021-07-02', '2021-07-05', '2021-07-06',\n",
       "               '2021-07-07', '2021-07-08', '2021-07-09', '2021-07-12',\n",
       "               '2021-07-13', '2021-07-14',\n",
       "               ...\n",
       "               '2021-12-15', '2021-12-16', '2021-12-17', '2021-12-20',\n",
       "               '2021-12-21', '2021-12-22', '2021-12-23', '2021-12-24',\n",
       "               '2021-12-27', '2021-12-28'],\n",
       "              dtype='datetime64[ns]', name='Date', length=123, freq=None)"
      ]
     },
     "execution_count": 4,
     "metadata": {},
     "output_type": "execute_result"
    }
   ],
   "source": [
    "stk_data.index"
   ]
  },
  {
   "cell_type": "code",
   "execution_count": 5,
   "id": "22dec18f-8440-41f5-aded-e4985193273e",
   "metadata": {},
   "outputs": [
    {
     "name": "stdout",
     "output_type": "stream",
     "text": [
      "Len: (123, 4)\n"
     ]
    }
   ],
   "source": [
    "from sklearn.preprocessing import MinMaxScaler\n",
    "Ms = MinMaxScaler()\n",
    "data1= Ms.fit_transform(stk_data)\n",
    "print(\"Len:\",data1.shape)"
   ]
  },
  {
   "cell_type": "code",
   "execution_count": 6,
   "id": "feed8ee5-17d6-4632-a0d1-70319844e8e6",
   "metadata": {},
   "outputs": [
    {
     "data": {
      "text/html": [
       "<div>\n",
       "<style scoped>\n",
       "    .dataframe tbody tr th:only-of-type {\n",
       "        vertical-align: middle;\n",
       "    }\n",
       "\n",
       "    .dataframe tbody tr th {\n",
       "        vertical-align: top;\n",
       "    }\n",
       "\n",
       "    .dataframe thead th {\n",
       "        text-align: right;\n",
       "    }\n",
       "</style>\n",
       "<table border=\"1\" class=\"dataframe\">\n",
       "  <thead>\n",
       "    <tr style=\"text-align: right;\">\n",
       "      <th></th>\n",
       "      <th>Open</th>\n",
       "      <th>High</th>\n",
       "      <th>Low</th>\n",
       "      <th>Close</th>\n",
       "    </tr>\n",
       "  </thead>\n",
       "  <tbody>\n",
       "    <tr>\n",
       "      <th>0</th>\n",
       "      <td>0.111864</td>\n",
       "      <td>0.022422</td>\n",
       "      <td>0.083571</td>\n",
       "      <td>0.052680</td>\n",
       "    </tr>\n",
       "    <tr>\n",
       "      <th>1</th>\n",
       "      <td>0.017797</td>\n",
       "      <td>0.000000</td>\n",
       "      <td>0.067426</td>\n",
       "      <td>0.086876</td>\n",
       "    </tr>\n",
       "    <tr>\n",
       "      <th>2</th>\n",
       "      <td>0.099153</td>\n",
       "      <td>0.162182</td>\n",
       "      <td>0.175689</td>\n",
       "      <td>0.198706</td>\n",
       "    </tr>\n",
       "    <tr>\n",
       "      <th>3</th>\n",
       "      <td>0.200000</td>\n",
       "      <td>0.109118</td>\n",
       "      <td>0.166192</td>\n",
       "      <td>0.131238</td>\n",
       "    </tr>\n",
       "    <tr>\n",
       "      <th>4</th>\n",
       "      <td>0.098305</td>\n",
       "      <td>0.096413</td>\n",
       "      <td>0.129155</td>\n",
       "      <td>0.206100</td>\n",
       "    </tr>\n",
       "    <tr>\n",
       "      <th>...</th>\n",
       "      <td>...</td>\n",
       "      <td>...</td>\n",
       "      <td>...</td>\n",
       "      <td>...</td>\n",
       "    </tr>\n",
       "    <tr>\n",
       "      <th>118</th>\n",
       "      <td>0.354237</td>\n",
       "      <td>0.303438</td>\n",
       "      <td>0.432099</td>\n",
       "      <td>0.430684</td>\n",
       "    </tr>\n",
       "    <tr>\n",
       "      <th>119</th>\n",
       "      <td>0.406780</td>\n",
       "      <td>0.289238</td>\n",
       "      <td>0.445394</td>\n",
       "      <td>0.392791</td>\n",
       "    </tr>\n",
       "    <tr>\n",
       "      <th>120</th>\n",
       "      <td>0.371186</td>\n",
       "      <td>0.245142</td>\n",
       "      <td>0.394112</td>\n",
       "      <td>0.356747</td>\n",
       "    </tr>\n",
       "    <tr>\n",
       "      <th>121</th>\n",
       "      <td>0.305085</td>\n",
       "      <td>0.515695</td>\n",
       "      <td>0.330484</td>\n",
       "      <td>0.677449</td>\n",
       "    </tr>\n",
       "    <tr>\n",
       "      <th>122</th>\n",
       "      <td>0.638136</td>\n",
       "      <td>0.492526</td>\n",
       "      <td>0.625831</td>\n",
       "      <td>0.566543</td>\n",
       "    </tr>\n",
       "  </tbody>\n",
       "</table>\n",
       "<p>123 rows × 4 columns</p>\n",
       "</div>"
      ],
      "text/plain": [
       "         Open      High       Low     Close\n",
       "0    0.111864  0.022422  0.083571  0.052680\n",
       "1    0.017797  0.000000  0.067426  0.086876\n",
       "2    0.099153  0.162182  0.175689  0.198706\n",
       "3    0.200000  0.109118  0.166192  0.131238\n",
       "4    0.098305  0.096413  0.129155  0.206100\n",
       "..        ...       ...       ...       ...\n",
       "118  0.354237  0.303438  0.432099  0.430684\n",
       "119  0.406780  0.289238  0.445394  0.392791\n",
       "120  0.371186  0.245142  0.394112  0.356747\n",
       "121  0.305085  0.515695  0.330484  0.677449\n",
       "122  0.638136  0.492526  0.625831  0.566543\n",
       "\n",
       "[123 rows x 4 columns]"
      ]
     },
     "execution_count": 6,
     "metadata": {},
     "output_type": "execute_result"
    }
   ],
   "source": [
    "data1=pd.DataFrame(data1,columns=[\"Open\",\"High\",\"Low\",\"Close\"])\n",
    "data1"
   ]
  },
  {
   "cell_type": "code",
   "execution_count": 7,
   "id": "2889ba9c-d8f3-48f5-b36a-21cc30ce76c4",
   "metadata": {},
   "outputs": [
    {
     "name": "stdout",
     "output_type": "stream",
     "text": [
      "98\n",
      "X_train length: (98, 4)\n",
      "X_test length: (25, 4)\n",
      "y_train length: (98, 4)\n",
      "y_test length: (25, 4)\n"
     ]
    }
   ],
   "source": [
    "training_size = round(len(data1 ) * 0.80)\n",
    "print(training_size)\n",
    "X_train=data1[:training_size]\n",
    "X_test=data1[training_size:]\n",
    "print(\"X_train length:\",X_train.shape)\n",
    "print(\"X_test length:\",X_test.shape)\n",
    "y_train=data1[:training_size]\n",
    "y_test=data1[training_size:]\n",
    "print(\"y_train length:\",y_train.shape)\n",
    "print(\"y_test length:\",y_test.shape)"
   ]
  },
  {
   "cell_type": "code",
   "execution_count": 8,
   "id": "b45d82a2-1c01-4d78-8cdb-07e29fdfaddb",
   "metadata": {},
   "outputs": [],
   "source": [
    "import warnings\n",
    "warnings.filterwarnings(\"ignore\")"
   ]
  },
  {
   "cell_type": "code",
   "execution_count": 9,
   "id": "c79f455f-449c-47e7-8f45-039849f34a10",
   "metadata": {},
   "outputs": [],
   "source": [
    "performance={\"Model\":[],\"RMSE\":[],\"MaPe\":[],\"Lag\":[],\"Test\":[]}"
   ]
  },
  {
   "cell_type": "code",
   "execution_count": 10,
   "id": "f6330f14-3969-4a00-96ab-354a12117458",
   "metadata": {},
   "outputs": [
    {
     "data": {
      "text/plain": [
       "{'Model': [], 'RMSE': [], 'MaPe': [], 'Lag': [], 'Test': []}"
      ]
     },
     "execution_count": 10,
     "metadata": {},
     "output_type": "execute_result"
    }
   ],
   "source": [
    "performance"
   ]
  },
  {
   "cell_type": "code",
   "execution_count": 30,
   "id": "09dc6d16-080e-4dbe-840a-e44bac128089",
   "metadata": {},
   "outputs": [],
   "source": [
    "from statsmodels.tsa.api import VAR\n",
    "from sklearn.metrics import mean_squared_error, mean_absolute_percentage_error\n",
    "import pandas as pd\n",
    "\n",
    "def combination(dataset, listt):\n",
    "    print(listt)\n",
    "    datasetTwo = dataset[listt]\n",
    "    test_obs = 28\n",
    "    train = datasetTwo[:-test_obs]\n",
    "    test = datasetTwo[-test_obs:]\n",
    "    \n",
    "    best_aic = float(\"inf\")\n",
    "    best_order = None\n",
    "    best_model = None\n",
    "\n",
    "    # First phase: Find the best lag order based on AIC\n",
    "    for i in range(1, 11):\n",
    "        model = VAR(train)\n",
    "        results = model.fit(i)\n",
    "        \n",
    "        print(f'Order = {i}')\n",
    "        print(f'AIC: {results.aic}')\n",
    "        print(f'BIC: {results.bic}')\n",
    "        print()\n",
    "        \n",
    "        if results.aic < best_aic:\n",
    "            best_aic = results.aic\n",
    "            best_order = i\n",
    "            best_model = results\n",
    "\n",
    "    print(f'Best Order: {best_order} with AIC: {best_aic}')\n",
    "\n",
    "    # Second phase: Fit the final VAR model with the best AIC order\n",
    "    final_model = VAR(train)\n",
    "    final_results = final_model.fit(best_order)\n",
    "\n",
    "    # Make predictions\n",
    "    lagged_values = train.values[-best_order:]\n",
    "    pred = final_results.forecast(y=lagged_values, steps=28)\n",
    "    preds = pd.DataFrame(pred, columns=listt)\n",
    "    preds.to_csv(\"varforecasted_{}.csv\".format(test_obs))\n",
    "\n",
    "    # Evaluate the model\n",
    "    rmse = round(mean_squared_error(test, pred, squared=False))\n",
    "    mape = mean_absolute_percentage_error(test, pred)\n",
    "\n",
    "    performance = {\"Model\": [], \"RMSE\": [], \"MaPe\": [], \"Lag\": [], \"Test\": []}\n",
    "    performance[\"Model\"].append(listt)\n",
    "    performance[\"RMSE\"].append(rmse)\n",
    "    performance[\"MaPe\"].append(mape)\n",
    "    performance[\"Lag\"].append(best_order)\n",
    "    performance[\"Test\"].append(test_obs)\n",
    "\n",
    "    perf = pd.DataFrame(performance)\n",
    "\n",
    "    from stockFunctions import rmsemape\n",
    "    rmsemape(test, pred)\n",
    "    print(\"************\")\n",
    "\n",
    "    return perf, final_results, pred,test\n"
   ]
  },
  {
   "cell_type": "code",
   "execution_count": 31,
   "id": "55081d46-0122-4843-9514-e795df43eac4",
   "metadata": {},
   "outputs": [
    {
     "name": "stdout",
     "output_type": "stream",
     "text": [
      "['Open', 'High', 'Low', 'Close']\n",
      "Order = 1\n",
      "AIC: -24.773550390390394\n",
      "BIC: -24.232423840971244\n",
      "\n",
      "Order = 2\n",
      "AIC: -24.537520362684866\n",
      "BIC: -23.557159268561023\n",
      "\n",
      "Order = 3\n",
      "AIC: -24.357551846059245\n",
      "BIC: -22.93219308511848\n",
      "\n",
      "Order = 4\n",
      "AIC: -24.169233695339997\n",
      "BIC: -22.292987031129606\n",
      "\n",
      "Order = 5\n",
      "AIC: -24.06310560350932\n",
      "BIC: -21.729949911201075\n",
      "\n",
      "Order = 6\n",
      "AIC: -23.914905847924874\n",
      "BIC: -21.1186852077764\n",
      "\n",
      "Order = 7\n",
      "AIC: -23.7209251632359\n",
      "BIC: -20.455344816878263\n",
      "\n",
      "Order = 8\n",
      "AIC: -23.535156866565718\n",
      "BIC: -19.79377903136566\n",
      "\n",
      "Order = 9\n",
      "AIC: -23.366103168399235\n",
      "BIC: -19.142342705079244\n",
      "\n",
      "Order = 10\n",
      "AIC: -23.4111233012541\n",
      "BIC: -18.69824322990808\n",
      "\n",
      "Best Order: 1 with AIC: -24.773550390390394\n",
      "RMSE-Testset: 0.1904322944953372\n",
      "maPe-Testset: 0.43045941711211255\n",
      "************\n"
     ]
    }
   ],
   "source": [
    "# Define the list of coloum\n",
    "listt = [\"Open\", \"High\", \"Low\", \"Close\"]\n",
    "\n",
    "# Now call the combination function\n",
    "perf, final_results, pred, test = combination(data1, listt)"
   ]
  },
  {
   "cell_type": "code",
   "execution_count": null,
   "id": "da5c8360-3d3f-4528-8361-5b3bb521596b",
   "metadata": {},
   "outputs": [],
   "source": []
  },
  {
   "cell_type": "code",
   "execution_count": null,
   "id": "b5971a97-6c59-4041-a1cf-c5d68588ad75",
   "metadata": {},
   "outputs": [],
   "source": []
  },
  {
   "cell_type": "code",
   "execution_count": null,
   "id": "b64ba4a3-ea78-4fb0-b9a2-f654d3366058",
   "metadata": {},
   "outputs": [],
   "source": []
  },
  {
   "cell_type": "code",
   "execution_count": null,
   "id": "14b8cd68-6b44-44c4-a810-66b37a3ba350",
   "metadata": {},
   "outputs": [],
   "source": []
  },
  {
   "cell_type": "code",
   "execution_count": 42,
   "id": "5b9eaf66-67bc-4563-9c05-85d50c4678d0",
   "metadata": {},
   "outputs": [
    {
     "data": {
      "text/plain": [
       "123"
      ]
     },
     "execution_count": 42,
     "metadata": {},
     "output_type": "execute_result"
    }
   ],
   "source": [
    "len(data1)"
   ]
  },
  {
   "cell_type": "code",
   "execution_count": null,
   "id": "8985bb40-d0d4-4d62-8ffa-8310b269b7f2",
   "metadata": {},
   "outputs": [],
   "source": [
    "from stockFunctions import conversionSingle\n",
    "aTestNormTable=conversionSingle(data1,[\"Close\"])\n",
    "actual_stock_price_test_ori=Ms.inverse_transform(aTestNormTable)\n",
    "actual_stock_price_test_oriA=conversionSingle(actual_stock_price_test_ori,[\"Close\"])"
   ]
  },
  {
   "cell_type": "code",
   "execution_count": null,
   "id": "0130b6b7-28f2-4bf6-a585-aab0bc695fc8",
   "metadata": {},
   "outputs": [],
   "source": [
    "from stockFunctions import conversionSingle\n",
    "pTestNormTable=conversionSingle(y_pred,[\"Close\"])\n",
    "predicted_stock_price_test_ori=Ms.inverse_transform(pTestNormTable)\n",
    "predicted_stock_price_test_oriP=conversionSingle(predicted_stock_price_test_ori,[\"Close\"])"
   ]
  },
  {
   "cell_type": "code",
   "execution_count": null,
   "id": "c7b90bf3-fc28-41d9-bd0d-743d36a0a401",
   "metadata": {},
   "outputs": [],
   "source": [
    "from stockFunctions import graph\n",
    "graph(actual_stock_price_test_oriA,predicted_stock_price_test_oriP,\"Actual\",\"Predicted\",\"TataCoffee-CLoseSARiMA\",\"Days\",\"Prices\")"
   ]
  },
  {
   "cell_type": "code",
   "execution_count": null,
   "id": "3efa248a-4ab1-45c4-86de-819efb38a342",
   "metadata": {},
   "outputs": [],
   "source": [
    "from stockFunctions import rmsemape\n",
    "rmsemape(actual_stock_price_test_oriA,predicted_stock_price_test_oriP)"
   ]
  },
  {
   "cell_type": "code",
   "execution_count": null,
   "id": "73895bb6-60da-4191-9f88-c24e5d52928f",
   "metadata": {},
   "outputs": [],
   "source": [
    "forecast=model_fit.predict(len(data1), len(data1)+3)"
   ]
  },
  {
   "cell_type": "code",
   "execution_count": null,
   "id": "84e382b0-b44b-47d3-91dd-bb8cd4b9faff",
   "metadata": {},
   "outputs": [],
   "source": [
    "forecast"
   ]
  },
  {
   "cell_type": "code",
   "execution_count": null,
   "id": "cbc8158d-851d-421b-9d1b-b17644dffc21",
   "metadata": {},
   "outputs": [],
   "source": [
    "forecast_stock_price_test_oriF"
   ]
  }
 ],
 "metadata": {
  "kernelspec": {
   "display_name": "Python 3 (ipykernel)",
   "language": "python",
   "name": "python3"
  },
  "language_info": {
   "codemirror_mode": {
    "name": "ipython",
    "version": 3
   },
   "file_extension": ".py",
   "mimetype": "text/x-python",
   "name": "python",
   "nbconvert_exporter": "python",
   "pygments_lexer": "ipython3",
   "version": "3.10.13"
  }
 },
 "nbformat": 4,
 "nbformat_minor": 5
}
