{
 "cells": [
  {
   "cell_type": "code",
   "execution_count": 1,
   "id": "56383106-4148-46d0-84de-a2e5fd043922",
   "metadata": {},
   "outputs": [
    {
     "name": "stdout",
     "output_type": "stream",
     "text": [
      "              Open    High     Low   Close\n",
      "Date                                      \n",
      "2021-07-01  188.60  189.00  183.00  184.55\n",
      "2021-07-02  183.05  187.50  182.15  186.40\n",
      "2021-07-05  187.85  198.35  187.85  192.45\n",
      "2021-07-06  193.80  194.80  187.35  188.80\n",
      "2021-07-07  187.80  193.95  185.40  192.85\n",
      "...            ...     ...     ...     ...\n",
      "2021-12-22  202.90  207.80  201.35  205.00\n",
      "2021-12-23  206.00  206.85  202.05  202.95\n",
      "2021-12-24  203.90  203.90  199.35  201.00\n",
      "2021-12-27  200.00  222.00  196.00  218.35\n",
      "2021-12-28  219.65  220.45  211.55  212.35\n",
      "\n",
      "[123 rows x 4 columns]\n"
     ]
    }
   ],
   "source": [
    "import pandas as pd\n",
    "import datetime as dt\n",
    "\n",
    "# Define the start and end dates\n",
    "start = dt.datetime(2021, 7, 1)\n",
    "end = dt.datetime(2021, 12, 28)\n",
    "\n",
    "# Load the CSV file and set 'Date' as the index\n",
    "data = pd.read_csv('Tatacoffee13_21.csv', parse_dates=['Date'], index_col='Date')\n",
    "\n",
    "# Filter the data based on the index\n",
    "stk_data = data[(data.index >= start) & (data.index <= end)]\n",
    "\n",
    "# Display the filtered data\n",
    "print(stk_data)"
   ]
  },
  {
   "cell_type": "code",
   "execution_count": 2,
   "id": "9ba9743a-af95-4ae3-b7a6-ac8cd617f2bf",
   "metadata": {},
   "outputs": [
    {
     "data": {
      "text/html": [
       "<div>\n",
       "<style scoped>\n",
       "    .dataframe tbody tr th:only-of-type {\n",
       "        vertical-align: middle;\n",
       "    }\n",
       "\n",
       "    .dataframe tbody tr th {\n",
       "        vertical-align: top;\n",
       "    }\n",
       "\n",
       "    .dataframe thead th {\n",
       "        text-align: right;\n",
       "    }\n",
       "</style>\n",
       "<table border=\"1\" class=\"dataframe\">\n",
       "  <thead>\n",
       "    <tr style=\"text-align: right;\">\n",
       "      <th></th>\n",
       "      <th>Open</th>\n",
       "      <th>High</th>\n",
       "      <th>Low</th>\n",
       "      <th>Close</th>\n",
       "    </tr>\n",
       "    <tr>\n",
       "      <th>Date</th>\n",
       "      <th></th>\n",
       "      <th></th>\n",
       "      <th></th>\n",
       "      <th></th>\n",
       "    </tr>\n",
       "  </thead>\n",
       "  <tbody>\n",
       "    <tr>\n",
       "      <th>2021-07-01</th>\n",
       "      <td>188.60</td>\n",
       "      <td>189.00</td>\n",
       "      <td>183.00</td>\n",
       "      <td>184.55</td>\n",
       "    </tr>\n",
       "    <tr>\n",
       "      <th>2021-07-02</th>\n",
       "      <td>183.05</td>\n",
       "      <td>187.50</td>\n",
       "      <td>182.15</td>\n",
       "      <td>186.40</td>\n",
       "    </tr>\n",
       "    <tr>\n",
       "      <th>2021-07-05</th>\n",
       "      <td>187.85</td>\n",
       "      <td>198.35</td>\n",
       "      <td>187.85</td>\n",
       "      <td>192.45</td>\n",
       "    </tr>\n",
       "    <tr>\n",
       "      <th>2021-07-06</th>\n",
       "      <td>193.80</td>\n",
       "      <td>194.80</td>\n",
       "      <td>187.35</td>\n",
       "      <td>188.80</td>\n",
       "    </tr>\n",
       "    <tr>\n",
       "      <th>2021-07-07</th>\n",
       "      <td>187.80</td>\n",
       "      <td>193.95</td>\n",
       "      <td>185.40</td>\n",
       "      <td>192.85</td>\n",
       "    </tr>\n",
       "    <tr>\n",
       "      <th>...</th>\n",
       "      <td>...</td>\n",
       "      <td>...</td>\n",
       "      <td>...</td>\n",
       "      <td>...</td>\n",
       "    </tr>\n",
       "    <tr>\n",
       "      <th>2021-12-22</th>\n",
       "      <td>202.90</td>\n",
       "      <td>207.80</td>\n",
       "      <td>201.35</td>\n",
       "      <td>205.00</td>\n",
       "    </tr>\n",
       "    <tr>\n",
       "      <th>2021-12-23</th>\n",
       "      <td>206.00</td>\n",
       "      <td>206.85</td>\n",
       "      <td>202.05</td>\n",
       "      <td>202.95</td>\n",
       "    </tr>\n",
       "    <tr>\n",
       "      <th>2021-12-24</th>\n",
       "      <td>203.90</td>\n",
       "      <td>203.90</td>\n",
       "      <td>199.35</td>\n",
       "      <td>201.00</td>\n",
       "    </tr>\n",
       "    <tr>\n",
       "      <th>2021-12-27</th>\n",
       "      <td>200.00</td>\n",
       "      <td>222.00</td>\n",
       "      <td>196.00</td>\n",
       "      <td>218.35</td>\n",
       "    </tr>\n",
       "    <tr>\n",
       "      <th>2021-12-28</th>\n",
       "      <td>219.65</td>\n",
       "      <td>220.45</td>\n",
       "      <td>211.55</td>\n",
       "      <td>212.35</td>\n",
       "    </tr>\n",
       "  </tbody>\n",
       "</table>\n",
       "<p>123 rows × 4 columns</p>\n",
       "</div>"
      ],
      "text/plain": [
       "              Open    High     Low   Close\n",
       "Date                                      \n",
       "2021-07-01  188.60  189.00  183.00  184.55\n",
       "2021-07-02  183.05  187.50  182.15  186.40\n",
       "2021-07-05  187.85  198.35  187.85  192.45\n",
       "2021-07-06  193.80  194.80  187.35  188.80\n",
       "2021-07-07  187.80  193.95  185.40  192.85\n",
       "...            ...     ...     ...     ...\n",
       "2021-12-22  202.90  207.80  201.35  205.00\n",
       "2021-12-23  206.00  206.85  202.05  202.95\n",
       "2021-12-24  203.90  203.90  199.35  201.00\n",
       "2021-12-27  200.00  222.00  196.00  218.35\n",
       "2021-12-28  219.65  220.45  211.55  212.35\n",
       "\n",
       "[123 rows x 4 columns]"
      ]
     },
     "execution_count": 2,
     "metadata": {},
     "output_type": "execute_result"
    }
   ],
   "source": [
    "stk_data"
   ]
  },
  {
   "cell_type": "code",
   "execution_count": 3,
   "id": "98312ef3-cd22-4724-974b-84e5fe9a2bdd",
   "metadata": {},
   "outputs": [
    {
     "data": {
      "text/plain": [
       "DatetimeIndex(['2021-07-01', '2021-07-02', '2021-07-05', '2021-07-06',\n",
       "               '2021-07-07', '2021-07-08', '2021-07-09', '2021-07-12',\n",
       "               '2021-07-13', '2021-07-14',\n",
       "               ...\n",
       "               '2021-12-15', '2021-12-16', '2021-12-17', '2021-12-20',\n",
       "               '2021-12-21', '2021-12-22', '2021-12-23', '2021-12-24',\n",
       "               '2021-12-27', '2021-12-28'],\n",
       "              dtype='datetime64[ns]', name='Date', length=123, freq=None)"
      ]
     },
     "execution_count": 3,
     "metadata": {},
     "output_type": "execute_result"
    }
   ],
   "source": [
    "stk_data.index"
   ]
  },
  {
   "cell_type": "code",
   "execution_count": 4,
   "id": "dc326451-c6fd-4a2e-a5c7-f0f4839a2f0e",
   "metadata": {},
   "outputs": [],
   "source": [
    "column=\"Close\""
   ]
  },
  {
   "cell_type": "code",
   "execution_count": 5,
   "id": "22dec18f-8440-41f5-aded-e4985193273e",
   "metadata": {},
   "outputs": [
    {
     "name": "stdout",
     "output_type": "stream",
     "text": [
      "Len: (123, 1)\n"
     ]
    }
   ],
   "source": [
    "from sklearn.preprocessing import MinMaxScaler\n",
    "Ms = MinMaxScaler()\n",
    "data1= Ms.fit_transform(stk_data[[column]])\n",
    "print(\"Len:\",data1.shape)"
   ]
  },
  {
   "cell_type": "code",
   "execution_count": 6,
   "id": "2889ba9c-d8f3-48f5-b36a-21cc30ce76c4",
   "metadata": {},
   "outputs": [
    {
     "name": "stdout",
     "output_type": "stream",
     "text": [
      "98\n",
      "X_train length: (98, 1)\n",
      "X_test length: (25, 1)\n",
      "y_train length: (98, 1)\n",
      "y_test length: (25, 1)\n"
     ]
    }
   ],
   "source": [
    "training_size = round(len(data1 ) * 0.80)\n",
    "print(training_size)\n",
    "X_train=data1[:training_size]\n",
    "X_test=data1[training_size:]\n",
    "print(\"X_train length:\",X_train.shape)\n",
    "print(\"X_test length:\",X_test.shape)\n",
    "y_train=data1[:training_size]\n",
    "y_test=data1[training_size:]\n",
    "print(\"y_train length:\",y_train.shape)\n",
    "print(\"y_test length:\",y_test.shape)"
   ]
  },
  {
   "cell_type": "code",
   "execution_count": 7,
   "id": "9474fc31-80c2-4421-b3eb-472a07e60949",
   "metadata": {},
   "outputs": [
    {
     "name": "stdout",
     "output_type": "stream",
     "text": [
      "Lag=1, Trend=n\n",
      "RMSE-Testset: 0.14697833103051713\n",
      "maPe-Testset: 0.2996233676581957\n",
      "************\n",
      "Lag=1, Trend=t\n",
      "RMSE-Testset: 0.4527171307719577\n",
      "maPe-Testset: 1.0040447397480232\n",
      "************\n",
      "Lag=1, Trend=c\n",
      "RMSE-Testset: 0.14430244276422033\n",
      "maPe-Testset: 0.29967659862124846\n",
      "************\n",
      "Lag=1, Trend=ct\n",
      "RMSE-Testset: 0.31746179789405826\n",
      "maPe-Testset: 0.7089714522623052\n",
      "************\n",
      "Lag=2, Trend=n\n",
      "RMSE-Testset: 0.1475578983263811\n",
      "maPe-Testset: 0.30117919787414066\n",
      "************\n",
      "Lag=2, Trend=t\n",
      "RMSE-Testset: 0.462279364788536\n",
      "maPe-Testset: 1.027139930441284\n",
      "************\n",
      "Lag=2, Trend=c\n",
      "RMSE-Testset: 0.1426467437133936\n",
      "maPe-Testset: 0.29649421032978124\n",
      "************\n",
      "Lag=2, Trend=ct\n",
      "RMSE-Testset: 0.3249526756000255\n",
      "maPe-Testset: 0.7272668466791423\n",
      "************\n",
      "Lag=3, Trend=n\n",
      "RMSE-Testset: 0.17400158804029786\n",
      "maPe-Testset: 0.365595357275859\n",
      "************\n",
      "Lag=3, Trend=t\n",
      "RMSE-Testset: 0.45770841309299165\n",
      "maPe-Testset: 1.01763904258657\n",
      "************\n",
      "Lag=3, Trend=c\n",
      "RMSE-Testset: 0.1509596370778762\n",
      "maPe-Testset: 0.3121001237082124\n",
      "************\n",
      "Lag=3, Trend=ct\n",
      "RMSE-Testset: 0.3304999944207538\n",
      "maPe-Testset: 0.7401839346578791\n",
      "************\n",
      "Lag=4, Trend=n\n",
      "RMSE-Testset: 0.163411679977913\n",
      "maPe-Testset: 0.3408181558866837\n",
      "************\n",
      "Lag=4, Trend=t\n",
      "RMSE-Testset: 0.4627025049886982\n",
      "maPe-Testset: 1.0266647635505697\n",
      "************\n",
      "Lag=4, Trend=c\n",
      "RMSE-Testset: 0.14048524869271678\n",
      "maPe-Testset: 0.2941151770304355\n",
      "************\n",
      "Lag=4, Trend=ct\n",
      "RMSE-Testset: 0.323094850272975\n",
      "maPe-Testset: 0.7209275552097278\n",
      "************\n"
     ]
    }
   ],
   "source": [
    "import numpy as np\n",
    "from sklearn.metrics import mean_squared_error\n",
    "from statsmodels.tsa.ar_model import AutoReg #algo\n",
    "from stockFunctions import rmsemape\n",
    "# Example of your loop (adjust to  data)\n",
    "trends = ['n', 't', 'c', 'ct']\n",
    "lags = [1, 2, 3, 4]\n",
    "\n",
    "for i in lags:\n",
    "    for td in trends:\n",
    "        model = AutoReg(X_train, lags=i, trend=td)\n",
    "        model_fit = model.fit()\n",
    "        \n",
    "        # Make prediction\n",
    "        y_pred = model_fit.predict(len(X_train), len(data1) - 1)\n",
    "        \n",
    "        # Evaluate using rmsemape\n",
    "        print(f\"Lag={i}, Trend={td}\")\n",
    "        rmsemape(y_test, y_pred)\n",
    "        print(\"************\")"
   ]
  },
  {
   "cell_type": "markdown",
   "id": "df6222ef-ac84-42a2-8bf4-f21b667e9ffd",
   "metadata": {},
   "source": [
    "#below without stock funtion module "
   ]
  },
  {
   "cell_type": "code",
   "execution_count": null,
   "id": "30d46112-557f-4d7c-aa42-081cb96ced11",
   "metadata": {},
   "outputs": [],
   "source": [
    "#import numpy as np\n",
    "#from sklearn.metrics import mean_squared_error\n",
    "#from statsmodels.tsa.ar_model import AutoReg\n",
    "\n",
    "# I have problem on this module so Define rmsemape directly in the notebook\n",
    "#def rmsemape(y_true, y_pred):\n",
    "    rmse = np.sqrt(np.mean((y_true - y_pred) ** 2))\n",
    "    mape = np.mean(np.abs((y_true - y_pred) / y_true)) * 100\n",
    "    print(f\"RMSE: {rmse:.4f}\")\n",
    "    print(f\"MAPE: {mape:.4f}%\")\n",
    "\n",
    "# Example of your loop (adjust to  data)\n",
    "trends = ['n', 't', 'c', 'ct']\n",
    "lags = [1, 2, 3, 4]\n",
    "\n",
    "#for i in lags:\n",
    "    for td in trends:\n",
    "        model = AutoReg(X_train, lags=i, trend=td)\n",
    "        model_fit = model.fit()\n",
    "        \n",
    "        # Make prediction\n",
    "        y_pred = model_fit.predict(len(X_train), len(data1) - 1)\n",
    "        \n",
    "        # Evaluate using rmsemape\n",
    "        print(f\"Lag={i}, Trend={td}\")\n",
    "        rmsemape(y_test, y_pred)\n",
    "        print(\"************\")"
   ]
  },
  {
   "cell_type": "code",
   "execution_count": 8,
   "id": "8b047d9a-1828-486c-aff0-6f453e8c4845",
   "metadata": {},
   "outputs": [
    {
     "data": {
      "text/plain": [
       "25"
      ]
     },
     "execution_count": 8,
     "metadata": {},
     "output_type": "execute_result"
    }
   ],
   "source": [
    "len(y_pred)"
   ]
  },
  {
   "cell_type": "code",
   "execution_count": 9,
   "id": "2c3a8092-e5a6-41f0-86b0-9e23a9e31536",
   "metadata": {},
   "outputs": [
    {
     "name": "stdout",
     "output_type": "stream",
     "text": [
      "Lag=1, Trend=ct\n",
      "RMSE-Testset: 0.31746179789405826\n",
      "maPe-Testset: 0.7089714522623052\n",
      "************\n"
     ]
    }
   ],
   "source": [
    "\n",
    "from sklearn.metrics import mean_squared_error\n",
    "from statsmodels.tsa.ar_model import AutoReg\n",
    "from stockFunctions import rmsemape\n",
    "\n",
    "# Example of setting the lag and trend\n",
    "i = 1\n",
    "td = 'ct'\n",
    "\n",
    "# Assuming X_train and y_test are already defined\n",
    "model = AutoReg(X_train, lags=i, trend=td)\n",
    "model_fit = model.fit()\n",
    "\n",
    "# Make prediction\n",
    "y_pred = model_fit.predict(len(X_train), len(data1) - 1)\n",
    "\n",
    "# Calculate MSE and RMSE\n",
    "mse = mean_squared_error(y_test, y_pred, squared=False)\n",
    "\n",
    "# Print out the results\n",
    "print(\"Lag={}, Trend={}\".format(i, td))\n",
    "rmsemape(y_test, y_pred)  # Call the rmsemape function\n",
    "print(\"************\")"
   ]
  },
  {
   "cell_type": "code",
   "execution_count": 11,
   "id": "f9430989-9318-40c7-94c2-76cbfa5b3450",
   "metadata": {},
   "outputs": [
    {
     "data": {
      "image/png": "[encoded data removed]",
      "text/plain": [
       "<Figure size 1000x500 with 1 Axes>"
      ]
     },
     "metadata": {},
     "output_type": "display_data"
    }
   ],
   "source": [
    "from stockFunctions import graph\n",
    "graph(y_test,y_pred,\"Actual\",\"Predicted\",\"TataCoffee-Close-AR-Norm\",\"Days\",\"Prices\")"
   ]
  },
  {
   "cell_type": "code",
   "execution_count": 12,
   "id": "4ecbeefa-8ff2-45c9-bef8-fa5343aa9c35",
   "metadata": {},
   "outputs": [
    {
     "data": {
      "text/plain": [
       "123"
      ]
     },
     "execution_count": 12,
     "metadata": {},
     "output_type": "execute_result"
    }
   ],
   "source": [
    "len(data1)"
   ]
  },
  {
   "cell_type": "code",
   "execution_count": 13,
   "id": "21313499-5ba0-43a9-bbe7-22f6f5d4a0b2",
   "metadata": {},
   "outputs": [
    {
     "data": {
      "text/plain": [
       "array([[0.64510166],\n",
       "       [0.64695009],\n",
       "       [0.487061  ],\n",
       "       [0.3271719 ],\n",
       "       [0.3909427 ],\n",
       "       [0.42144177],\n",
       "       [0.43715342],\n",
       "       [0.41866913],\n",
       "       [0.3844732 ],\n",
       "       [0.56746765],\n",
       "       [0.58780037],\n",
       "       [0.57486137],\n",
       "       [0.64232902],\n",
       "       [0.6090573 ],\n",
       "       [0.57763401],\n",
       "       [0.54343808],\n",
       "       [0.48243993],\n",
       "       [0.4168207 ],\n",
       "       [0.23752311],\n",
       "       [0.33179298],\n",
       "       [0.43068392],\n",
       "       [0.39279113],\n",
       "       [0.35674677],\n",
       "       [0.67744917],\n",
       "       [0.56654344]])"
      ]
     },
     "execution_count": 13,
     "metadata": {},
     "output_type": "execute_result"
    }
   ],
   "source": [
    "y_test"
   ]
  },
  {
   "cell_type": "code",
   "execution_count": 15,
   "id": "42c34b51-e688-4ebf-9875-7b72afa65e42",
   "metadata": {},
   "outputs": [],
   "source": [
    "from stockFunctions import conversionSingle\n",
    "aTestNormTable=conversionSingle(y_test,[column])"
   ]
  },
  {
   "cell_type": "code",
   "execution_count": 16,
   "id": "6d723e5b-08dd-49f4-8dfb-5c449d7f4577",
   "metadata": {},
   "outputs": [
    {
     "data": {
      "text/html": [
       "<div>\n",
       "<style scoped>\n",
       "    .dataframe tbody tr th:only-of-type {\n",
       "        vertical-align: middle;\n",
       "    }\n",
       "\n",
       "    .dataframe tbody tr th {\n",
       "        vertical-align: top;\n",
       "    }\n",
       "\n",
       "    .dataframe thead th {\n",
       "        text-align: right;\n",
       "    }\n",
       "</style>\n",
       "<table border=\"1\" class=\"dataframe\">\n",
       "  <thead>\n",
       "    <tr style=\"text-align: right;\">\n",
       "      <th></th>\n",
       "      <th>Close</th>\n",
       "    </tr>\n",
       "  </thead>\n",
       "  <tbody>\n",
       "    <tr>\n",
       "      <th>0</th>\n",
       "      <td>0.645102</td>\n",
       "    </tr>\n",
       "    <tr>\n",
       "      <th>1</th>\n",
       "      <td>0.64695</td>\n",
       "    </tr>\n",
       "    <tr>\n",
       "      <th>2</th>\n",
       "      <td>0.487061</td>\n",
       "    </tr>\n",
       "    <tr>\n",
       "      <th>3</th>\n",
       "      <td>0.327172</td>\n",
       "    </tr>\n",
       "    <tr>\n",
       "      <th>4</th>\n",
       "      <td>0.390943</td>\n",
       "    </tr>\n",
       "    <tr>\n",
       "      <th>5</th>\n",
       "      <td>0.421442</td>\n",
       "    </tr>\n",
       "    <tr>\n",
       "      <th>6</th>\n",
       "      <td>0.437153</td>\n",
       "    </tr>\n",
       "    <tr>\n",
       "      <th>7</th>\n",
       "      <td>0.418669</td>\n",
       "    </tr>\n",
       "    <tr>\n",
       "      <th>8</th>\n",
       "      <td>0.384473</td>\n",
       "    </tr>\n",
       "    <tr>\n",
       "      <th>9</th>\n",
       "      <td>0.567468</td>\n",
       "    </tr>\n",
       "    <tr>\n",
       "      <th>10</th>\n",
       "      <td>0.5878</td>\n",
       "    </tr>\n",
       "    <tr>\n",
       "      <th>11</th>\n",
       "      <td>0.574861</td>\n",
       "    </tr>\n",
       "    <tr>\n",
       "      <th>12</th>\n",
       "      <td>0.642329</td>\n",
       "    </tr>\n",
       "    <tr>\n",
       "      <th>13</th>\n",
       "      <td>0.609057</td>\n",
       "    </tr>\n",
       "    <tr>\n",
       "      <th>14</th>\n",
       "      <td>0.577634</td>\n",
       "    </tr>\n",
       "    <tr>\n",
       "      <th>15</th>\n",
       "      <td>0.543438</td>\n",
       "    </tr>\n",
       "    <tr>\n",
       "      <th>16</th>\n",
       "      <td>0.48244</td>\n",
       "    </tr>\n",
       "    <tr>\n",
       "      <th>17</th>\n",
       "      <td>0.416821</td>\n",
       "    </tr>\n",
       "    <tr>\n",
       "      <th>18</th>\n",
       "      <td>0.237523</td>\n",
       "    </tr>\n",
       "    <tr>\n",
       "      <th>19</th>\n",
       "      <td>0.331793</td>\n",
       "    </tr>\n",
       "    <tr>\n",
       "      <th>20</th>\n",
       "      <td>0.430684</td>\n",
       "    </tr>\n",
       "    <tr>\n",
       "      <th>21</th>\n",
       "      <td>0.392791</td>\n",
       "    </tr>\n",
       "    <tr>\n",
       "      <th>22</th>\n",
       "      <td>0.356747</td>\n",
       "    </tr>\n",
       "    <tr>\n",
       "      <th>23</th>\n",
       "      <td>0.677449</td>\n",
       "    </tr>\n",
       "    <tr>\n",
       "      <th>24</th>\n",
       "      <td>0.566543</td>\n",
       "    </tr>\n",
       "  </tbody>\n",
       "</table>\n",
       "</div>"
      ],
      "text/plain": [
       "       Close\n",
       "0   0.645102\n",
       "1    0.64695\n",
       "2   0.487061\n",
       "3   0.327172\n",
       "4   0.390943\n",
       "5   0.421442\n",
       "6   0.437153\n",
       "7   0.418669\n",
       "8   0.384473\n",
       "9   0.567468\n",
       "10    0.5878\n",
       "11  0.574861\n",
       "12  0.642329\n",
       "13  0.609057\n",
       "14  0.577634\n",
       "15  0.543438\n",
       "16   0.48244\n",
       "17  0.416821\n",
       "18  0.237523\n",
       "19  0.331793\n",
       "20  0.430684\n",
       "21  0.392791\n",
       "22  0.356747\n",
       "23  0.677449\n",
       "24  0.566543"
      ]
     },
     "execution_count": 16,
     "metadata": {},
     "output_type": "execute_result"
    }
   ],
   "source": [
    "aTestNormTable"
   ]
  },
  {
   "cell_type": "code",
   "execution_count": 17,
   "id": "fc434f1c-ecb7-41ee-9cf9-10fb7a05c250",
   "metadata": {},
   "outputs": [],
   "source": [
    "actual_stock_price_test_ori=Ms.inverse_transform(aTestNormTable)"
   ]
  },
  {
   "cell_type": "code",
   "execution_count": 18,
   "id": "071b1075-5f49-457d-bcec-a52a0646db96",
   "metadata": {},
   "outputs": [
    {
     "data": {
      "text/plain": [
       "array([[216.6 ],\n",
       "       [216.7 ],\n",
       "       [208.05],\n",
       "       [199.4 ],\n",
       "       [202.85],\n",
       "       [204.5 ],\n",
       "       [205.35],\n",
       "       [204.35],\n",
       "       [202.5 ],\n",
       "       [212.4 ],\n",
       "       [213.5 ],\n",
       "       [212.8 ],\n",
       "       [216.45],\n",
       "       [214.65],\n",
       "       [212.95],\n",
       "       [211.1 ],\n",
       "       [207.8 ],\n",
       "       [204.25],\n",
       "       [194.55],\n",
       "       [199.65],\n",
       "       [205.  ],\n",
       "       [202.95],\n",
       "       [201.  ],\n",
       "       [218.35],\n",
       "       [212.35]])"
      ]
     },
     "execution_count": 18,
     "metadata": {},
     "output_type": "execute_result"
    }
   ],
   "source": [
    "actual_stock_price_test_ori"
   ]
  },
  {
   "cell_type": "code",
   "execution_count": 19,
   "id": "f6ab8ec9-faa1-4c7a-8033-4eb9fb9af12e",
   "metadata": {},
   "outputs": [],
   "source": [
    "actual_stock_price_test_oriA=conversionSingle(actual_stock_price_test_ori,[column])"
   ]
  },
  {
   "cell_type": "code",
   "execution_count": 20,
   "id": "3d4f7f90-5821-48b5-83eb-636107b47187",
   "metadata": {},
   "outputs": [
    {
     "data": {
      "text/html": [
       "<div>\n",
       "<style scoped>\n",
       "    .dataframe tbody tr th:only-of-type {\n",
       "        vertical-align: middle;\n",
       "    }\n",
       "\n",
       "    .dataframe tbody tr th {\n",
       "        vertical-align: top;\n",
       "    }\n",
       "\n",
       "    .dataframe thead th {\n",
       "        text-align: right;\n",
       "    }\n",
       "</style>\n",
       "<table border=\"1\" class=\"dataframe\">\n",
       "  <thead>\n",
       "    <tr style=\"text-align: right;\">\n",
       "      <th></th>\n",
       "      <th>Close</th>\n",
       "    </tr>\n",
       "  </thead>\n",
       "  <tbody>\n",
       "    <tr>\n",
       "      <th>0</th>\n",
       "      <td>216.6</td>\n",
       "    </tr>\n",
       "    <tr>\n",
       "      <th>1</th>\n",
       "      <td>216.7</td>\n",
       "    </tr>\n",
       "    <tr>\n",
       "      <th>2</th>\n",
       "      <td>208.05</td>\n",
       "    </tr>\n",
       "    <tr>\n",
       "      <th>3</th>\n",
       "      <td>199.4</td>\n",
       "    </tr>\n",
       "    <tr>\n",
       "      <th>4</th>\n",
       "      <td>202.85</td>\n",
       "    </tr>\n",
       "    <tr>\n",
       "      <th>5</th>\n",
       "      <td>204.5</td>\n",
       "    </tr>\n",
       "    <tr>\n",
       "      <th>6</th>\n",
       "      <td>205.35</td>\n",
       "    </tr>\n",
       "    <tr>\n",
       "      <th>7</th>\n",
       "      <td>204.35</td>\n",
       "    </tr>\n",
       "    <tr>\n",
       "      <th>8</th>\n",
       "      <td>202.5</td>\n",
       "    </tr>\n",
       "    <tr>\n",
       "      <th>9</th>\n",
       "      <td>212.4</td>\n",
       "    </tr>\n",
       "    <tr>\n",
       "      <th>10</th>\n",
       "      <td>213.5</td>\n",
       "    </tr>\n",
       "    <tr>\n",
       "      <th>11</th>\n",
       "      <td>212.8</td>\n",
       "    </tr>\n",
       "    <tr>\n",
       "      <th>12</th>\n",
       "      <td>216.45</td>\n",
       "    </tr>\n",
       "    <tr>\n",
       "      <th>13</th>\n",
       "      <td>214.65</td>\n",
       "    </tr>\n",
       "    <tr>\n",
       "      <th>14</th>\n",
       "      <td>212.95</td>\n",
       "    </tr>\n",
       "    <tr>\n",
       "      <th>15</th>\n",
       "      <td>211.1</td>\n",
       "    </tr>\n",
       "    <tr>\n",
       "      <th>16</th>\n",
       "      <td>207.8</td>\n",
       "    </tr>\n",
       "    <tr>\n",
       "      <th>17</th>\n",
       "      <td>204.25</td>\n",
       "    </tr>\n",
       "    <tr>\n",
       "      <th>18</th>\n",
       "      <td>194.55</td>\n",
       "    </tr>\n",
       "    <tr>\n",
       "      <th>19</th>\n",
       "      <td>199.65</td>\n",
       "    </tr>\n",
       "    <tr>\n",
       "      <th>20</th>\n",
       "      <td>205.0</td>\n",
       "    </tr>\n",
       "    <tr>\n",
       "      <th>21</th>\n",
       "      <td>202.95</td>\n",
       "    </tr>\n",
       "    <tr>\n",
       "      <th>22</th>\n",
       "      <td>201.0</td>\n",
       "    </tr>\n",
       "    <tr>\n",
       "      <th>23</th>\n",
       "      <td>218.35</td>\n",
       "    </tr>\n",
       "    <tr>\n",
       "      <th>24</th>\n",
       "      <td>212.35</td>\n",
       "    </tr>\n",
       "  </tbody>\n",
       "</table>\n",
       "</div>"
      ],
      "text/plain": [
       "     Close\n",
       "0    216.6\n",
       "1    216.7\n",
       "2   208.05\n",
       "3    199.4\n",
       "4   202.85\n",
       "5    204.5\n",
       "6   205.35\n",
       "7   204.35\n",
       "8    202.5\n",
       "9    212.4\n",
       "10   213.5\n",
       "11   212.8\n",
       "12  216.45\n",
       "13  214.65\n",
       "14  212.95\n",
       "15   211.1\n",
       "16   207.8\n",
       "17  204.25\n",
       "18  194.55\n",
       "19  199.65\n",
       "20   205.0\n",
       "21  202.95\n",
       "22   201.0\n",
       "23  218.35\n",
       "24  212.35"
      ]
     },
     "execution_count": 20,
     "metadata": {},
     "output_type": "execute_result"
    }
   ],
   "source": [
    "actual_stock_price_test_oriA"
   ]
  },
  {
   "cell_type": "code",
   "execution_count": 21,
   "id": "66f9c5db-7b92-4e83-8064-cd42d72ab628",
   "metadata": {},
   "outputs": [],
   "source": [
    "from stockFunctions import conversionSingle\n",
    "aTestNormTable=conversionSingle(y_test,[column])\n",
    "actual_stock_price_test_ori=Ms.inverse_transform(aTestNormTable)\n",
    "actual_stock_price_test_oriA=conversionSingle(actual_stock_price_test_ori,[column])"
   ]
  },
  {
   "cell_type": "code",
   "execution_count": 22,
   "id": "a2f0ed23-abac-4024-8aca-df3a29dfbc27",
   "metadata": {},
   "outputs": [],
   "source": [
    "from stockFunctions import conversionSingle\n",
    "pTestNormTable=conversionSingle(y_pred,[column])\n",
    "predicted_stock_price_test_ori=Ms.inverse_transform(pTestNormTable)\n",
    "predicted_stock_price_test_oriP=conversionSingle(predicted_stock_price_test_ori,[column])"
   ]
  },
  {
   "cell_type": "code",
   "execution_count": 23,
   "id": "1677e9b5-60cf-4570-b108-221e8a44ec98",
   "metadata": {},
   "outputs": [
    {
     "data": {
      "image/png": "[encoded data removed]",
      "text/plain": [
       "<Figure size 1000x500 with 1 Axes>"
      ]
     },
     "metadata": {},
     "output_type": "display_data"
    }
   ],
   "source": [
    "from stockFunctions import graph\n",
    "graph(actual_stock_price_test_oriA,predicted_stock_price_test_oriP,\"Actual\",\"Predicted\",\"TataCoffee-Close-AR-Ori\",\"Days\",\"Prices\")"
   ]
  },
  {
   "cell_type": "code",
   "execution_count": 24,
   "id": "65b1e745-9e11-4bc1-b235-3338e96575cb",
   "metadata": {},
   "outputs": [
    {
     "name": "stdout",
     "output_type": "stream",
     "text": [
      "RMSE-Testset: 17.174683266068563\n",
      "maPe-Testset: 0.07612161180375927\n"
     ]
    }
   ],
   "source": [
    "from stockFunctions import rmsemape\n",
    "rmsemape(actual_stock_price_test_oriA,predicted_stock_price_test_oriP)"
   ]
  },
  {
   "cell_type": "code",
   "execution_count": 25,
   "id": "c1260892-ede9-4af9-bd82-fa129cc5c472",
   "metadata": {},
   "outputs": [],
   "source": [
    "forecast=model_fit.predict(len(data1), len(data1)+3)"
   ]
  },
  {
   "cell_type": "code",
   "execution_count": 26,
   "id": "1b83722c-cd39-4be1-a008-1520f4263c05",
   "metadata": {},
   "outputs": [
    {
     "data": {
      "text/plain": [
       "array([0.84606549, 0.85079937, 0.85552548, 0.86024539])"
      ]
     },
     "execution_count": 26,
     "metadata": {},
     "output_type": "execute_result"
    }
   ],
   "source": [
    "forecast"
   ]
  },
  {
   "cell_type": "code",
   "execution_count": 27,
   "id": "ffadcdd5-0737-4f69-8744-cbc143aadcdf",
   "metadata": {},
   "outputs": [],
   "source": [
    "from stockFunctions import conversionSingle\n",
    "fTestNormTable=conversionSingle(forecast,[\"Closefore\"])\n",
    "forecast_stock_price_test_ori=Ms.inverse_transform(fTestNormTable)\n",
    "forecast_stock_price_test_oriF=conversionSingle(forecast_stock_price_test_ori,[\"Closefore\"])"
   ]
  },
  {
   "cell_type": "code",
   "execution_count": 28,
   "id": "56cd2ce0-8360-47a8-85b1-04b5ac2eba97",
   "metadata": {},
   "outputs": [
    {
     "data": {
      "text/html": [
       "<div>\n",
       "<style scoped>\n",
       "    .dataframe tbody tr th:only-of-type {\n",
       "        vertical-align: middle;\n",
       "    }\n",
       "\n",
       "    .dataframe tbody tr th {\n",
       "        vertical-align: top;\n",
       "    }\n",
       "\n",
       "    .dataframe thead th {\n",
       "        text-align: right;\n",
       "    }\n",
       "</style>\n",
       "<table border=\"1\" class=\"dataframe\">\n",
       "  <thead>\n",
       "    <tr style=\"text-align: right;\">\n",
       "      <th></th>\n",
       "      <th>Closefore</th>\n",
       "    </tr>\n",
       "  </thead>\n",
       "  <tbody>\n",
       "    <tr>\n",
       "      <th>0</th>\n",
       "      <td>227.472143</td>\n",
       "    </tr>\n",
       "    <tr>\n",
       "      <th>1</th>\n",
       "      <td>227.728246</td>\n",
       "    </tr>\n",
       "    <tr>\n",
       "      <th>2</th>\n",
       "      <td>227.983929</td>\n",
       "    </tr>\n",
       "    <tr>\n",
       "      <th>3</th>\n",
       "      <td>228.239276</td>\n",
       "    </tr>\n",
       "  </tbody>\n",
       "</table>\n",
       "</div>"
      ],
      "text/plain": [
       "    Closefore\n",
       "0  227.472143\n",
       "1  227.728246\n",
       "2  227.983929\n",
       "3  228.239276"
      ]
     },
     "execution_count": 28,
     "metadata": {},
     "output_type": "execute_result"
    }
   ],
   "source": [
    "forecast_stock_price_test_oriF"
   ]
  },
  {
   "cell_type": "code",
   "execution_count": 29,
   "id": "a3a4d04d-2f23-4cc9-925f-f2abfc2a05f1",
   "metadata": {},
   "outputs": [],
   "source": [
    "forecast_stock_price_test_oriF.to_csv(\"CloseAR.csv\",index=False)"
   ]
  },
  {
   "cell_type": "code",
   "execution_count": null,
   "id": "4e234985-db11-4a40-830a-81daecd447c3",
   "metadata": {},
   "outputs": [],
   "source": []
  }
 ],
 "metadata": {
  "kernelspec": {
   "display_name": "Python 3 (ipykernel)",
   "language": "python",
   "name": "python3"
  },
  "language_info": {
   "codemirror_mode": {
    "name": "ipython",
    "version": 3
   },
   "file_extension": ".py",
   "mimetype": "text/x-python",
   "name": "python",
   "nbconvert_exporter": "python",
   "pygments_lexer": "ipython3",
   "version": "3.10.13"
  }
 },
 "nbformat": 4,
 "nbformat_minor": 5
}
