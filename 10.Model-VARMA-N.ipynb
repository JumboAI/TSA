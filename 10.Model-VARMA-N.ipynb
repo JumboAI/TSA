{
 "cells": [
  {
   "cell_type": "markdown",
   "id": "b6cca9f1-e7d6-48c3-8760-0ba4df77dee1",
   "metadata": {},
   "source": [
    "## Importing necessary libraries,Data Collection,Filter"
   ]
  },
  {
   "cell_type": "code",
   "execution_count": 1,
   "id": "56383106-4148-46d0-84de-a2e5fd043922",
   "metadata": {},
   "outputs": [
    {
     "data": {
      "text/html": [
       "<div>\n",
       "<style scoped>\n",
       "    .dataframe tbody tr th:only-of-type {\n",
       "        vertical-align: middle;\n",
       "    }\n",
       "\n",
       "    .dataframe tbody tr th {\n",
       "        vertical-align: top;\n",
       "    }\n",
       "\n",
       "    .dataframe thead th {\n",
       "        text-align: right;\n",
       "    }\n",
       "</style>\n",
       "<table border=\"1\" class=\"dataframe\">\n",
       "  <thead>\n",
       "    <tr style=\"text-align: right;\">\n",
       "      <th></th>\n",
       "      <th>Open</th>\n",
       "      <th>High</th>\n",
       "      <th>Low</th>\n",
       "      <th>Close</th>\n",
       "      <th>Adj Close</th>\n",
       "      <th>Volume</th>\n",
       "    </tr>\n",
       "    <tr>\n",
       "      <th>Date</th>\n",
       "      <th></th>\n",
       "      <th></th>\n",
       "      <th></th>\n",
       "      <th></th>\n",
       "      <th></th>\n",
       "      <th></th>\n",
       "    </tr>\n",
       "  </thead>\n",
       "  <tbody>\n",
       "    <tr>\n",
       "      <th>2021-02-01</th>\n",
       "      <td>536.789978</td>\n",
       "      <td>545.059998</td>\n",
       "      <td>531.729980</td>\n",
       "      <td>539.039978</td>\n",
       "      <td>539.039978</td>\n",
       "      <td>3547500</td>\n",
       "    </tr>\n",
       "    <tr>\n",
       "      <th>2021-02-02</th>\n",
       "      <td>542.010010</td>\n",
       "      <td>555.479980</td>\n",
       "      <td>538.929993</td>\n",
       "      <td>548.159973</td>\n",
       "      <td>548.159973</td>\n",
       "      <td>3767600</td>\n",
       "    </tr>\n",
       "    <tr>\n",
       "      <th>2021-02-03</th>\n",
       "      <td>550.169983</td>\n",
       "      <td>550.479980</td>\n",
       "      <td>538.239990</td>\n",
       "      <td>539.450012</td>\n",
       "      <td>539.450012</td>\n",
       "      <td>3172300</td>\n",
       "    </tr>\n",
       "    <tr>\n",
       "      <th>2021-02-04</th>\n",
       "      <td>539.809998</td>\n",
       "      <td>559.479980</td>\n",
       "      <td>537.510010</td>\n",
       "      <td>552.159973</td>\n",
       "      <td>552.159973</td>\n",
       "      <td>5164500</td>\n",
       "    </tr>\n",
       "    <tr>\n",
       "      <th>2021-02-05</th>\n",
       "      <td>552.260010</td>\n",
       "      <td>554.440002</td>\n",
       "      <td>545.479980</td>\n",
       "      <td>550.789978</td>\n",
       "      <td>550.789978</td>\n",
       "      <td>2376200</td>\n",
       "    </tr>\n",
       "    <tr>\n",
       "      <th>...</th>\n",
       "      <td>...</td>\n",
       "      <td>...</td>\n",
       "      <td>...</td>\n",
       "      <td>...</td>\n",
       "      <td>...</td>\n",
       "      <td>...</td>\n",
       "    </tr>\n",
       "    <tr>\n",
       "      <th>2022-01-31</th>\n",
       "      <td>401.970001</td>\n",
       "      <td>427.700012</td>\n",
       "      <td>398.200012</td>\n",
       "      <td>427.140015</td>\n",
       "      <td>427.140015</td>\n",
       "      <td>20047500</td>\n",
       "    </tr>\n",
       "    <tr>\n",
       "      <th>2022-02-01</th>\n",
       "      <td>432.959991</td>\n",
       "      <td>458.480011</td>\n",
       "      <td>425.540009</td>\n",
       "      <td>457.130005</td>\n",
       "      <td>457.130005</td>\n",
       "      <td>22542300</td>\n",
       "    </tr>\n",
       "    <tr>\n",
       "      <th>2022-02-02</th>\n",
       "      <td>448.250000</td>\n",
       "      <td>451.980011</td>\n",
       "      <td>426.480011</td>\n",
       "      <td>429.480011</td>\n",
       "      <td>429.480011</td>\n",
       "      <td>14346000</td>\n",
       "    </tr>\n",
       "    <tr>\n",
       "      <th>2022-02-03</th>\n",
       "      <td>421.440002</td>\n",
       "      <td>429.260010</td>\n",
       "      <td>404.279999</td>\n",
       "      <td>405.600006</td>\n",
       "      <td>405.600006</td>\n",
       "      <td>9905200</td>\n",
       "    </tr>\n",
       "    <tr>\n",
       "      <th>2022-02-04</th>\n",
       "      <td>407.309998</td>\n",
       "      <td>412.769989</td>\n",
       "      <td>396.640015</td>\n",
       "      <td>410.170013</td>\n",
       "      <td>410.170013</td>\n",
       "      <td>7782400</td>\n",
       "    </tr>\n",
       "  </tbody>\n",
       "</table>\n",
       "<p>257 rows × 6 columns</p>\n",
       "</div>"
      ],
      "text/plain": [
       "                  Open        High         Low       Close   Adj Close  \\\n",
       "Date                                                                     \n",
       "2021-02-01  536.789978  545.059998  531.729980  539.039978  539.039978   \n",
       "2021-02-02  542.010010  555.479980  538.929993  548.159973  548.159973   \n",
       "2021-02-03  550.169983  550.479980  538.239990  539.450012  539.450012   \n",
       "2021-02-04  539.809998  559.479980  537.510010  552.159973  552.159973   \n",
       "2021-02-05  552.260010  554.440002  545.479980  550.789978  550.789978   \n",
       "...                ...         ...         ...         ...         ...   \n",
       "2022-01-31  401.970001  427.700012  398.200012  427.140015  427.140015   \n",
       "2022-02-01  432.959991  458.480011  425.540009  457.130005  457.130005   \n",
       "2022-02-02  448.250000  451.980011  426.480011  429.480011  429.480011   \n",
       "2022-02-03  421.440002  429.260010  404.279999  405.600006  405.600006   \n",
       "2022-02-04  407.309998  412.769989  396.640015  410.170013  410.170013   \n",
       "\n",
       "              Volume  \n",
       "Date                  \n",
       "2021-02-01   3547500  \n",
       "2021-02-02   3767600  \n",
       "2021-02-03   3172300  \n",
       "2021-02-04   5164500  \n",
       "2021-02-05   2376200  \n",
       "...              ...  \n",
       "2022-01-31  20047500  \n",
       "2022-02-01  22542300  \n",
       "2022-02-02  14346000  \n",
       "2022-02-03   9905200  \n",
       "2022-02-04   7782400  \n",
       "\n",
       "[257 rows x 6 columns]"
      ]
     },
     "execution_count": 1,
     "metadata": {},
     "output_type": "execute_result"
    }
   ],
   "source": [
    "import pandas as pd\n",
    "import datetime as dt\n",
    "\n",
    "# Define the start and end dates\n",
    "start = dt.datetime(2021, 2, 1)\n",
    "end = dt.datetime(2022, 2, 4)\n",
    "\n",
    "# Load the CSV file and set 'Date' as the index\n",
    "data = pd.read_csv('NFLX.csv', parse_dates=['Date'], index_col='Date')\n",
    "\n",
    "# Filter the data based on the index, extra step csv file \n",
    "stk_data = data[(data.index >= start) & (data.index <= end)]\n",
    "\n",
    "# Display the filtered data\n",
    "stk_data"
   ]
  },
  {
   "cell_type": "code",
   "execution_count": 2,
   "id": "9ba9743a-af95-4ae3-b7a6-ac8cd617f2bf",
   "metadata": {},
   "outputs": [],
   "source": [
    "\n",
    "stk_data=stk_data[[\"Open\",\"High\",\"Low\",\"Close\"]]"
   ]
  },
  {
   "cell_type": "code",
   "execution_count": 3,
   "id": "deeb89bd-bb7b-41b6-a0df-4948965fa1ef",
   "metadata": {},
   "outputs": [
    {
     "data": {
      "text/html": [
       "<div>\n",
       "<style scoped>\n",
       "    .dataframe tbody tr th:only-of-type {\n",
       "        vertical-align: middle;\n",
       "    }\n",
       "\n",
       "    .dataframe tbody tr th {\n",
       "        vertical-align: top;\n",
       "    }\n",
       "\n",
       "    .dataframe thead th {\n",
       "        text-align: right;\n",
       "    }\n",
       "</style>\n",
       "<table border=\"1\" class=\"dataframe\">\n",
       "  <thead>\n",
       "    <tr style=\"text-align: right;\">\n",
       "      <th></th>\n",
       "      <th>Open</th>\n",
       "      <th>High</th>\n",
       "      <th>Low</th>\n",
       "      <th>Close</th>\n",
       "    </tr>\n",
       "    <tr>\n",
       "      <th>Date</th>\n",
       "      <th></th>\n",
       "      <th></th>\n",
       "      <th></th>\n",
       "      <th></th>\n",
       "    </tr>\n",
       "  </thead>\n",
       "  <tbody>\n",
       "    <tr>\n",
       "      <th>2021-02-01</th>\n",
       "      <td>536.789978</td>\n",
       "      <td>545.059998</td>\n",
       "      <td>531.729980</td>\n",
       "      <td>539.039978</td>\n",
       "    </tr>\n",
       "    <tr>\n",
       "      <th>2021-02-02</th>\n",
       "      <td>542.010010</td>\n",
       "      <td>555.479980</td>\n",
       "      <td>538.929993</td>\n",
       "      <td>548.159973</td>\n",
       "    </tr>\n",
       "    <tr>\n",
       "      <th>2021-02-03</th>\n",
       "      <td>550.169983</td>\n",
       "      <td>550.479980</td>\n",
       "      <td>538.239990</td>\n",
       "      <td>539.450012</td>\n",
       "    </tr>\n",
       "    <tr>\n",
       "      <th>2021-02-04</th>\n",
       "      <td>539.809998</td>\n",
       "      <td>559.479980</td>\n",
       "      <td>537.510010</td>\n",
       "      <td>552.159973</td>\n",
       "    </tr>\n",
       "    <tr>\n",
       "      <th>2021-02-05</th>\n",
       "      <td>552.260010</td>\n",
       "      <td>554.440002</td>\n",
       "      <td>545.479980</td>\n",
       "      <td>550.789978</td>\n",
       "    </tr>\n",
       "    <tr>\n",
       "      <th>...</th>\n",
       "      <td>...</td>\n",
       "      <td>...</td>\n",
       "      <td>...</td>\n",
       "      <td>...</td>\n",
       "    </tr>\n",
       "    <tr>\n",
       "      <th>2022-01-31</th>\n",
       "      <td>401.970001</td>\n",
       "      <td>427.700012</td>\n",
       "      <td>398.200012</td>\n",
       "      <td>427.140015</td>\n",
       "    </tr>\n",
       "    <tr>\n",
       "      <th>2022-02-01</th>\n",
       "      <td>432.959991</td>\n",
       "      <td>458.480011</td>\n",
       "      <td>425.540009</td>\n",
       "      <td>457.130005</td>\n",
       "    </tr>\n",
       "    <tr>\n",
       "      <th>2022-02-02</th>\n",
       "      <td>448.250000</td>\n",
       "      <td>451.980011</td>\n",
       "      <td>426.480011</td>\n",
       "      <td>429.480011</td>\n",
       "    </tr>\n",
       "    <tr>\n",
       "      <th>2022-02-03</th>\n",
       "      <td>421.440002</td>\n",
       "      <td>429.260010</td>\n",
       "      <td>404.279999</td>\n",
       "      <td>405.600006</td>\n",
       "    </tr>\n",
       "    <tr>\n",
       "      <th>2022-02-04</th>\n",
       "      <td>407.309998</td>\n",
       "      <td>412.769989</td>\n",
       "      <td>396.640015</td>\n",
       "      <td>410.170013</td>\n",
       "    </tr>\n",
       "  </tbody>\n",
       "</table>\n",
       "<p>257 rows × 4 columns</p>\n",
       "</div>"
      ],
      "text/plain": [
       "                  Open        High         Low       Close\n",
       "Date                                                      \n",
       "2021-02-01  536.789978  545.059998  531.729980  539.039978\n",
       "2021-02-02  542.010010  555.479980  538.929993  548.159973\n",
       "2021-02-03  550.169983  550.479980  538.239990  539.450012\n",
       "2021-02-04  539.809998  559.479980  537.510010  552.159973\n",
       "2021-02-05  552.260010  554.440002  545.479980  550.789978\n",
       "...                ...         ...         ...         ...\n",
       "2022-01-31  401.970001  427.700012  398.200012  427.140015\n",
       "2022-02-01  432.959991  458.480011  425.540009  457.130005\n",
       "2022-02-02  448.250000  451.980011  426.480011  429.480011\n",
       "2022-02-03  421.440002  429.260010  404.279999  405.600006\n",
       "2022-02-04  407.309998  412.769989  396.640015  410.170013\n",
       "\n",
       "[257 rows x 4 columns]"
      ]
     },
     "execution_count": 3,
     "metadata": {},
     "output_type": "execute_result"
    }
   ],
   "source": [
    "stk_data"
   ]
  },
  {
   "cell_type": "code",
   "execution_count": 4,
   "id": "98312ef3-cd22-4724-974b-84e5fe9a2bdd",
   "metadata": {},
   "outputs": [
    {
     "data": {
      "text/plain": [
       "DatetimeIndex(['2021-02-01', '2021-02-02', '2021-02-03', '2021-02-04',\n",
       "               '2021-02-05', '2021-02-08', '2021-02-09', '2021-02-10',\n",
       "               '2021-02-11', '2021-02-12',\n",
       "               ...\n",
       "               '2022-01-24', '2022-01-25', '2022-01-26', '2022-01-27',\n",
       "               '2022-01-28', '2022-01-31', '2022-02-01', '2022-02-02',\n",
       "               '2022-02-03', '2022-02-04'],\n",
       "              dtype='datetime64[ns]', name='Date', length=257, freq=None)"
      ]
     },
     "execution_count": 4,
     "metadata": {},
     "output_type": "execute_result"
    }
   ],
   "source": [
    "stk_data.index"
   ]
  },
  {
   "cell_type": "markdown",
   "id": "fb06b8a9-602c-4975-8698-b5b3af623691",
   "metadata": {},
   "source": [
    "## Data Preprocessing"
   ]
  },
  {
   "cell_type": "code",
   "execution_count": 5,
   "id": "22dec18f-8440-41f5-aded-e4985193273e",
   "metadata": {},
   "outputs": [
    {
     "name": "stdout",
     "output_type": "stream",
     "text": [
      "Len: (257, 4)\n"
     ]
    }
   ],
   "source": [
    "from sklearn.preprocessing import MinMaxScaler\n",
    "Ms = MinMaxScaler()\n",
    "data1= Ms.fit_transform(stk_data)\n",
    "print(\"Len:\",data1.shape)"
   ]
  },
  {
   "cell_type": "code",
   "execution_count": 6,
   "id": "0f395c70-27fb-41f9-970e-2b7e9706718d",
   "metadata": {},
   "outputs": [
    {
     "data": {
      "text/plain": [
       "array([[0.50471216, 0.51016241, 0.53871431, 0.54019691],\n",
       "       [0.52133223, 0.54289569, 0.56023065, 0.5676676 ],\n",
       "       [0.54731279, 0.52718871, 0.55816866, 0.54143199],\n",
       "       ...,\n",
       "       [0.22280952, 0.21776147, 0.22418794, 0.21018706],\n",
       "       [0.1374491 , 0.14638899, 0.15784599, 0.13825716],\n",
       "       [0.09246055, 0.09458733, 0.13501485, 0.15202266]])"
      ]
     },
     "execution_count": 6,
     "metadata": {},
     "output_type": "execute_result"
    }
   ],
   "source": [
    "data1"
   ]
  },
  {
   "cell_type": "markdown",
   "id": "8681902d-8832-44fc-b14f-fa55b40358f3",
   "metadata": {},
   "source": [
    "# Data Preprocessing"
   ]
  },
  {
   "cell_type": "code",
   "execution_count": 7,
   "id": "feed8ee5-17d6-4632-a0d1-70319844e8e6",
   "metadata": {},
   "outputs": [
    {
     "data": {
      "text/html": [
       "<div>\n",
       "<style scoped>\n",
       "    .dataframe tbody tr th:only-of-type {\n",
       "        vertical-align: middle;\n",
       "    }\n",
       "\n",
       "    .dataframe tbody tr th {\n",
       "        vertical-align: top;\n",
       "    }\n",
       "\n",
       "    .dataframe thead th {\n",
       "        text-align: right;\n",
       "    }\n",
       "</style>\n",
       "<table border=\"1\" class=\"dataframe\">\n",
       "  <thead>\n",
       "    <tr style=\"text-align: right;\">\n",
       "      <th></th>\n",
       "      <th>Open</th>\n",
       "      <th>High</th>\n",
       "      <th>Low</th>\n",
       "      <th>Close</th>\n",
       "    </tr>\n",
       "  </thead>\n",
       "  <tbody>\n",
       "    <tr>\n",
       "      <th>0</th>\n",
       "      <td>0.504712</td>\n",
       "      <td>0.510162</td>\n",
       "      <td>0.538714</td>\n",
       "      <td>0.540197</td>\n",
       "    </tr>\n",
       "    <tr>\n",
       "      <th>1</th>\n",
       "      <td>0.521332</td>\n",
       "      <td>0.542896</td>\n",
       "      <td>0.560231</td>\n",
       "      <td>0.567668</td>\n",
       "    </tr>\n",
       "    <tr>\n",
       "      <th>2</th>\n",
       "      <td>0.547313</td>\n",
       "      <td>0.527189</td>\n",
       "      <td>0.558169</td>\n",
       "      <td>0.541432</td>\n",
       "    </tr>\n",
       "    <tr>\n",
       "      <th>3</th>\n",
       "      <td>0.514328</td>\n",
       "      <td>0.555461</td>\n",
       "      <td>0.555987</td>\n",
       "      <td>0.579716</td>\n",
       "    </tr>\n",
       "    <tr>\n",
       "      <th>4</th>\n",
       "      <td>0.553967</td>\n",
       "      <td>0.539629</td>\n",
       "      <td>0.579804</td>\n",
       "      <td>0.575590</td>\n",
       "    </tr>\n",
       "    <tr>\n",
       "      <th>...</th>\n",
       "      <td>...</td>\n",
       "      <td>...</td>\n",
       "      <td>...</td>\n",
       "      <td>...</td>\n",
       "    </tr>\n",
       "    <tr>\n",
       "      <th>252</th>\n",
       "      <td>0.075459</td>\n",
       "      <td>0.141488</td>\n",
       "      <td>0.139677</td>\n",
       "      <td>0.203139</td>\n",
       "    </tr>\n",
       "    <tr>\n",
       "      <th>253</th>\n",
       "      <td>0.174128</td>\n",
       "      <td>0.238181</td>\n",
       "      <td>0.221379</td>\n",
       "      <td>0.293473</td>\n",
       "    </tr>\n",
       "    <tr>\n",
       "      <th>254</th>\n",
       "      <td>0.222810</td>\n",
       "      <td>0.217761</td>\n",
       "      <td>0.224188</td>\n",
       "      <td>0.210187</td>\n",
       "    </tr>\n",
       "    <tr>\n",
       "      <th>255</th>\n",
       "      <td>0.137449</td>\n",
       "      <td>0.146389</td>\n",
       "      <td>0.157846</td>\n",
       "      <td>0.138257</td>\n",
       "    </tr>\n",
       "    <tr>\n",
       "      <th>256</th>\n",
       "      <td>0.092461</td>\n",
       "      <td>0.094587</td>\n",
       "      <td>0.135015</td>\n",
       "      <td>0.152023</td>\n",
       "    </tr>\n",
       "  </tbody>\n",
       "</table>\n",
       "<p>257 rows × 4 columns</p>\n",
       "</div>"
      ],
      "text/plain": [
       "         Open      High       Low     Close\n",
       "0    0.504712  0.510162  0.538714  0.540197\n",
       "1    0.521332  0.542896  0.560231  0.567668\n",
       "2    0.547313  0.527189  0.558169  0.541432\n",
       "3    0.514328  0.555461  0.555987  0.579716\n",
       "4    0.553967  0.539629  0.579804  0.575590\n",
       "..        ...       ...       ...       ...\n",
       "252  0.075459  0.141488  0.139677  0.203139\n",
       "253  0.174128  0.238181  0.221379  0.293473\n",
       "254  0.222810  0.217761  0.224188  0.210187\n",
       "255  0.137449  0.146389  0.157846  0.138257\n",
       "256  0.092461  0.094587  0.135015  0.152023\n",
       "\n",
       "[257 rows x 4 columns]"
      ]
     },
     "execution_count": 7,
     "metadata": {},
     "output_type": "execute_result"
    }
   ],
   "source": [
    "data1=pd.DataFrame(data1,columns=[\"Open\",\"High\",\"Low\",\"Close\"])\n",
    "data1"
   ]
  },
  {
   "cell_type": "code",
   "execution_count": 8,
   "id": "7edc0bd1-8c2f-4e96-8f47-b32dcaea0d24",
   "metadata": {},
   "outputs": [
    {
     "data": {
      "text/plain": [
       "(257, 4)"
      ]
     },
     "execution_count": 8,
     "metadata": {},
     "output_type": "execute_result"
    }
   ],
   "source": [
    "data1.shape"
   ]
  },
  {
   "cell_type": "code",
   "execution_count": 9,
   "id": "b45d82a2-1c01-4d78-8cdb-07e29fdfaddb",
   "metadata": {},
   "outputs": [],
   "source": [
    "import warnings\n",
    "warnings.filterwarnings(\"ignore\")"
   ]
  },
  {
   "cell_type": "code",
   "execution_count": 10,
   "id": "c79f455f-449c-47e7-8f45-039849f34a10",
   "metadata": {},
   "outputs": [],
   "source": [
    "# creating dictionary to store values\n",
    "performance={\"Model\":[],\"RMSE\":[],\"MaPe\":[],\"Lag\":[],\"Test\":[]}\n",
    "# creating list\n",
    "listt=[\"Close\",\"High\",\"Open\",\"Low\"]"
   ]
  },
  {
   "cell_type": "code",
   "execution_count": 11,
   "id": "f6330f14-3969-4a00-96ab-354a12117458",
   "metadata": {},
   "outputs": [
    {
     "data": {
      "text/plain": [
       "{'Model': [], 'RMSE': [], 'MaPe': [], 'Lag': [], 'Test': []}"
      ]
     },
     "execution_count": 11,
     "metadata": {},
     "output_type": "execute_result"
    }
   ],
   "source": [
    "performance"
   ]
  },
  {
   "cell_type": "code",
   "execution_count": 12,
   "id": "d143e239-cb2e-4f43-a50d-563f00aab74c",
   "metadata": {},
   "outputs": [
    {
     "data": {
      "text/plain": [
       "['Close', 'High', 'Open', 'Low']"
      ]
     },
     "execution_count": 12,
     "metadata": {},
     "output_type": "execute_result"
    }
   ],
   "source": [
    "listt"
   ]
  },
  {
   "cell_type": "code",
   "execution_count": 13,
   "id": "8cecc175-7cf3-4f51-8849-d6e6cf8dc795",
   "metadata": {},
   "outputs": [
    {
     "data": {
      "text/html": [
       "<div>\n",
       "<style scoped>\n",
       "    .dataframe tbody tr th:only-of-type {\n",
       "        vertical-align: middle;\n",
       "    }\n",
       "\n",
       "    .dataframe tbody tr th {\n",
       "        vertical-align: top;\n",
       "    }\n",
       "\n",
       "    .dataframe thead th {\n",
       "        text-align: right;\n",
       "    }\n",
       "</style>\n",
       "<table border=\"1\" class=\"dataframe\">\n",
       "  <thead>\n",
       "    <tr style=\"text-align: right;\">\n",
       "      <th></th>\n",
       "      <th>Close</th>\n",
       "      <th>High</th>\n",
       "      <th>Open</th>\n",
       "      <th>Low</th>\n",
       "    </tr>\n",
       "  </thead>\n",
       "  <tbody>\n",
       "    <tr>\n",
       "      <th>0</th>\n",
       "      <td>0.540197</td>\n",
       "      <td>0.510162</td>\n",
       "      <td>0.504712</td>\n",
       "      <td>0.538714</td>\n",
       "    </tr>\n",
       "    <tr>\n",
       "      <th>1</th>\n",
       "      <td>0.567668</td>\n",
       "      <td>0.542896</td>\n",
       "      <td>0.521332</td>\n",
       "      <td>0.560231</td>\n",
       "    </tr>\n",
       "    <tr>\n",
       "      <th>2</th>\n",
       "      <td>0.541432</td>\n",
       "      <td>0.527189</td>\n",
       "      <td>0.547313</td>\n",
       "      <td>0.558169</td>\n",
       "    </tr>\n",
       "    <tr>\n",
       "      <th>3</th>\n",
       "      <td>0.579716</td>\n",
       "      <td>0.555461</td>\n",
       "      <td>0.514328</td>\n",
       "      <td>0.555987</td>\n",
       "    </tr>\n",
       "    <tr>\n",
       "      <th>4</th>\n",
       "      <td>0.575590</td>\n",
       "      <td>0.539629</td>\n",
       "      <td>0.553967</td>\n",
       "      <td>0.579804</td>\n",
       "    </tr>\n",
       "    <tr>\n",
       "      <th>...</th>\n",
       "      <td>...</td>\n",
       "      <td>...</td>\n",
       "      <td>...</td>\n",
       "      <td>...</td>\n",
       "    </tr>\n",
       "    <tr>\n",
       "      <th>252</th>\n",
       "      <td>0.203139</td>\n",
       "      <td>0.141488</td>\n",
       "      <td>0.075459</td>\n",
       "      <td>0.139677</td>\n",
       "    </tr>\n",
       "    <tr>\n",
       "      <th>253</th>\n",
       "      <td>0.293473</td>\n",
       "      <td>0.238181</td>\n",
       "      <td>0.174128</td>\n",
       "      <td>0.221379</td>\n",
       "    </tr>\n",
       "    <tr>\n",
       "      <th>254</th>\n",
       "      <td>0.210187</td>\n",
       "      <td>0.217761</td>\n",
       "      <td>0.222810</td>\n",
       "      <td>0.224188</td>\n",
       "    </tr>\n",
       "    <tr>\n",
       "      <th>255</th>\n",
       "      <td>0.138257</td>\n",
       "      <td>0.146389</td>\n",
       "      <td>0.137449</td>\n",
       "      <td>0.157846</td>\n",
       "    </tr>\n",
       "    <tr>\n",
       "      <th>256</th>\n",
       "      <td>0.152023</td>\n",
       "      <td>0.094587</td>\n",
       "      <td>0.092461</td>\n",
       "      <td>0.135015</td>\n",
       "    </tr>\n",
       "  </tbody>\n",
       "</table>\n",
       "<p>257 rows × 4 columns</p>\n",
       "</div>"
      ],
      "text/plain": [
       "        Close      High      Open       Low\n",
       "0    0.540197  0.510162  0.504712  0.538714\n",
       "1    0.567668  0.542896  0.521332  0.560231\n",
       "2    0.541432  0.527189  0.547313  0.558169\n",
       "3    0.579716  0.555461  0.514328  0.555987\n",
       "4    0.575590  0.539629  0.553967  0.579804\n",
       "..        ...       ...       ...       ...\n",
       "252  0.203139  0.141488  0.075459  0.139677\n",
       "253  0.293473  0.238181  0.174128  0.221379\n",
       "254  0.210187  0.217761  0.222810  0.224188\n",
       "255  0.138257  0.146389  0.137449  0.157846\n",
       "256  0.152023  0.094587  0.092461  0.135015\n",
       "\n",
       "[257 rows x 4 columns]"
      ]
     },
     "execution_count": 13,
     "metadata": {},
     "output_type": "execute_result"
    }
   ],
   "source": [
    "datasetTwo=data1[listt]\n",
    "datasetTwo"
   ]
  },
  {
   "cell_type": "markdown",
   "id": "baaca706-ca9b-4466-884a-5af5088995b2",
   "metadata": {},
   "source": [
    "# Train and Test Split & Model Creation"
   ]
  },
  {
   "cell_type": "code",
   "execution_count": 22,
   "id": "e48f658a-3f11-41f3-a2cd-1bbe6cb3615a",
   "metadata": {},
   "outputs": [],
   "source": [
    "import pandas as pd\n",
    "from statsmodels.tsa.statespace.varmax import VARMAX\n",
    "from sklearn.metrics import mean_squared_error, mean_absolute_percentage_error\n",
    "\n",
    "def combination(dataset, listt):\n",
    "    print(listt)\n",
    "    datasetTwo = dataset[listt]\n",
    "    test_obs = 28\n",
    "    train = datasetTwo[:-test_obs]\n",
    "    test = datasetTwo[-test_obs:]\n",
    "\n",
    "    # Initialize lists to store performance metrics\n",
    "    rmse_list = []\n",
    "    mape_list = []\n",
    "    lag_list = []\n",
    "\n",
    "    for p in range(1, 6):  # Iterate over different autoregressive orders\n",
    "        for q in range(1, 4):  # Iterate over different moving average orders\n",
    "            try:\n",
    "                model = VARMAX(train, order=(p, q))  # VARMA model\n",
    "                result = model.fit(maxiter=1000, disp=False)\n",
    "\n",
    "                print('Order = (p={}, q={})'.format(p, q))\n",
    "                print('AIC: ', result.aic)\n",
    "                print('BIC: ', result.bic)\n",
    "                print()\n",
    "\n",
    "                # Forecast\n",
    "                pred = result.forecast(steps=28)\n",
    "\n",
    "                # Calculate performance metrics\n",
    "                rmse = round(mean_squared_error(test, pred, squared=False))\n",
    "                mape = mean_absolute_percentage_error(test, pred)\n",
    "\n",
    "                # Append metrics to lists\n",
    "                rmse_list.append(rmse)\n",
    "                mape_list.append(mape)\n",
    "                lag_list.append((p, q))\n",
    "                \n",
    "            except Exception as e:\n",
    "                print(f\"Error fitting model for order (p={p}, q={q}): {e}\")\n",
    "                \n",
    "    # Check if rmse_list is empty\n",
    "    if not rmse_list:\n",
    "        print(\"No suitable models found.\")\n",
    "        return None, None, None\n",
    "\n",
    "    \n",
    "    # Find the best performing model based on RMSE\n",
    "    min_rmse_index = rmse_list.index(min(rmse_list))\n",
    "    best_lag = lag_list[min_rmse_index]\n",
    "    best_rmse = rmse_list[min_rmse_index]\n",
    "    best_mape = mape_list[min_rmse_index]\n",
    "\n",
    "    print('Best Model (based on RMSE):')\n",
    "    print('Order (p, q):', best_lag)\n",
    "    print('RMSE:', best_rmse)\n",
    "    print('MAPE:', best_mape)\n",
    "\n",
    "    # Fit the best model\n",
    "    best_model = VARMAX(train, order=best_lag)\n",
    "    best_result = best_model.fit(maxiter=1000, disp=False)\n",
    "\n",
    "    # Forecast using the best model\n",
    "    best_pred = best_result.forecast(steps=28)\n",
    "\n",
    "    # Save forecast to CSV\n",
    "    preds = pd.DataFrame(best_pred, columns=listt)\n",
    "    #preds.to_csv(\"varma_forecasted_{}.csv\".format(test_obs))\n",
    "\n",
    "    # Create DataFrame to store performance metrics\n",
    "    performance = pd.DataFrame({\n",
    "        'Model': [listt],\n",
    "        'RMSE': [best_rmse],\n",
    "        'MAPE': [best_mape],\n",
    "        'Lag': [best_lag],\n",
    "        'Test': [test_obs]\n",
    "    })\n",
    "\n",
    "    return performance, best_result, best_pred,test"
   ]
  },
  {
   "cell_type": "code",
   "execution_count": 15,
   "id": "a424c77a-bd7a-446f-b352-edbf81fbfe73",
   "metadata": {},
   "outputs": [
    {
     "name": "stdout",
     "output_type": "stream",
     "text": [
      "['Close', 'High', 'Open', 'Low']\n"
     ]
    },
    {
     "name": "stderr",
     "output_type": "stream",
     "text": [
      "D:\\APPS\\Anaconda\\envs\\aiml\\lib\\site-packages\\statsmodels\\tsa\\statespace\\varmax.py:161: EstimationWarning: Estimation of VARMA(p,q) models is not generically robust, due especially to identification issues.\n",
      "  warn('Estimation of VARMA(p,q) models is not generically robust,'\n"
     ]
    },
    {
     "name": "stdout",
     "output_type": "stream",
     "text": [
      "Order = (p=1, q=1)\n",
      "AIC:  -5137.337406578367\n",
      "BIC:  -4979.386194414872\n",
      "\n"
     ]
    },
    {
     "name": "stderr",
     "output_type": "stream",
     "text": [
      "D:\\APPS\\Anaconda\\envs\\aiml\\lib\\site-packages\\statsmodels\\tsa\\statespace\\varmax.py:161: EstimationWarning: Estimation of VARMA(p,q) models is not generically robust, due especially to identification issues.\n",
      "  warn('Estimation of VARMA(p,q) models is not generically robust,'\n",
      "D:\\APPS\\Anaconda\\envs\\aiml\\lib\\site-packages\\statsmodels\\base\\model.py:607: ConvergenceWarning: Maximum Likelihood optimization failed to converge. Check mle_retvals\n",
      "  warnings.warn(\"Maximum Likelihood optimization failed to \"\n"
     ]
    },
    {
     "name": "stdout",
     "output_type": "stream",
     "text": [
      "Order = (p=1, q=2)\n",
      "AIC:  -5121.024553942314\n",
      "BIC:  -4908.133789721951\n",
      "\n"
     ]
    },
    {
     "name": "stderr",
     "output_type": "stream",
     "text": [
      "D:\\APPS\\Anaconda\\envs\\aiml\\lib\\site-packages\\statsmodels\\tsa\\statespace\\varmax.py:161: EstimationWarning: Estimation of VARMA(p,q) models is not generically robust, due especially to identification issues.\n",
      "  warn('Estimation of VARMA(p,q) models is not generically robust,'\n"
     ]
    },
    {
     "name": "stdout",
     "output_type": "stream",
     "text": [
      "Order = (p=1, q=3)\n",
      "AIC:  -5109.567257971672\n",
      "BIC:  -4841.736941694441\n",
      "\n"
     ]
    },
    {
     "name": "stderr",
     "output_type": "stream",
     "text": [
      "D:\\APPS\\Anaconda\\envs\\aiml\\lib\\site-packages\\statsmodels\\tsa\\statespace\\varmax.py:161: EstimationWarning: Estimation of VARMA(p,q) models is not generically robust, due especially to identification issues.\n",
      "  warn('Estimation of VARMA(p,q) models is not generically robust,'\n"
     ]
    },
    {
     "name": "stdout",
     "output_type": "stream",
     "text": [
      "Order = (p=2, q=1)\n",
      "AIC:  -5117.216261578836\n",
      "BIC:  -4904.325497358473\n",
      "\n"
     ]
    },
    {
     "name": "stderr",
     "output_type": "stream",
     "text": [
      "D:\\APPS\\Anaconda\\envs\\aiml\\lib\\site-packages\\statsmodels\\tsa\\statespace\\varmax.py:161: EstimationWarning: Estimation of VARMA(p,q) models is not generically robust, due especially to identification issues.\n",
      "  warn('Estimation of VARMA(p,q) models is not generically robust,'\n",
      "D:\\APPS\\Anaconda\\envs\\aiml\\lib\\site-packages\\statsmodels\\base\\model.py:607: ConvergenceWarning: Maximum Likelihood optimization failed to converge. Check mle_retvals\n",
      "  warnings.warn(\"Maximum Likelihood optimization failed to \"\n"
     ]
    },
    {
     "name": "stdout",
     "output_type": "stream",
     "text": [
      "Order = (p=2, q=2)\n",
      "AIC:  -5090.00908985446\n",
      "BIC:  -4822.17877357723\n",
      "\n"
     ]
    },
    {
     "name": "stderr",
     "output_type": "stream",
     "text": [
      "D:\\APPS\\Anaconda\\envs\\aiml\\lib\\site-packages\\statsmodels\\tsa\\statespace\\varmax.py:161: EstimationWarning: Estimation of VARMA(p,q) models is not generically robust, due especially to identification issues.\n",
      "  warn('Estimation of VARMA(p,q) models is not generically robust,'\n",
      "D:\\APPS\\Anaconda\\envs\\aiml\\lib\\site-packages\\statsmodels\\base\\model.py:607: ConvergenceWarning: Maximum Likelihood optimization failed to converge. Check mle_retvals\n",
      "  warnings.warn(\"Maximum Likelihood optimization failed to \"\n"
     ]
    },
    {
     "name": "stdout",
     "output_type": "stream",
     "text": [
      "Order = (p=2, q=3)\n",
      "AIC:  -5080.04324696631\n",
      "BIC:  -4757.2733786322115\n",
      "\n"
     ]
    },
    {
     "name": "stderr",
     "output_type": "stream",
     "text": [
      "D:\\APPS\\Anaconda\\envs\\aiml\\lib\\site-packages\\statsmodels\\tsa\\statespace\\varmax.py:161: EstimationWarning: Estimation of VARMA(p,q) models is not generically robust, due especially to identification issues.\n",
      "  warn('Estimation of VARMA(p,q) models is not generically robust,'\n"
     ]
    },
    {
     "name": "stdout",
     "output_type": "stream",
     "text": [
      "Order = (p=3, q=1)\n",
      "AIC:  -5115.294595421629\n",
      "BIC:  -4847.4642791443985\n",
      "\n"
     ]
    },
    {
     "name": "stderr",
     "output_type": "stream",
     "text": [
      "D:\\APPS\\Anaconda\\envs\\aiml\\lib\\site-packages\\statsmodels\\tsa\\statespace\\varmax.py:161: EstimationWarning: Estimation of VARMA(p,q) models is not generically robust, due especially to identification issues.\n",
      "  warn('Estimation of VARMA(p,q) models is not generically robust,'\n"
     ]
    },
    {
     "name": "stdout",
     "output_type": "stream",
     "text": [
      "Order = (p=3, q=2)\n",
      "AIC:  -5083.558700901383\n",
      "BIC:  -4760.788832567285\n",
      "\n"
     ]
    },
    {
     "name": "stderr",
     "output_type": "stream",
     "text": [
      "D:\\APPS\\Anaconda\\envs\\aiml\\lib\\site-packages\\statsmodels\\tsa\\statespace\\varmax.py:161: EstimationWarning: Estimation of VARMA(p,q) models is not generically robust, due especially to identification issues.\n",
      "  warn('Estimation of VARMA(p,q) models is not generically robust,'\n",
      "D:\\APPS\\Anaconda\\envs\\aiml\\lib\\site-packages\\statsmodels\\base\\model.py:607: ConvergenceWarning: Maximum Likelihood optimization failed to converge. Check mle_retvals\n",
      "  warnings.warn(\"Maximum Likelihood optimization failed to \"\n"
     ]
    },
    {
     "name": "stdout",
     "output_type": "stream",
     "text": [
      "Order = (p=3, q=3)\n",
      "AIC:  -5054.977389489948\n",
      "BIC:  -4677.267969098982\n",
      "\n"
     ]
    },
    {
     "name": "stderr",
     "output_type": "stream",
     "text": [
      "D:\\APPS\\Anaconda\\envs\\aiml\\lib\\site-packages\\statsmodels\\tsa\\statespace\\varmax.py:161: EstimationWarning: Estimation of VARMA(p,q) models is not generically robust, due especially to identification issues.\n",
      "  warn('Estimation of VARMA(p,q) models is not generically robust,'\n"
     ]
    },
    {
     "name": "stdout",
     "output_type": "stream",
     "text": [
      "Order = (p=4, q=1)\n",
      "AIC:  -5093.348967621076\n",
      "BIC:  -4770.579099286977\n",
      "\n"
     ]
    },
    {
     "name": "stderr",
     "output_type": "stream",
     "text": [
      "D:\\APPS\\Anaconda\\envs\\aiml\\lib\\site-packages\\statsmodels\\tsa\\statespace\\varmax.py:161: EstimationWarning: Estimation of VARMA(p,q) models is not generically robust, due especially to identification issues.\n",
      "  warn('Estimation of VARMA(p,q) models is not generically robust,'\n",
      "D:\\APPS\\Anaconda\\envs\\aiml\\lib\\site-packages\\statsmodels\\base\\model.py:607: ConvergenceWarning: Maximum Likelihood optimization failed to converge. Check mle_retvals\n",
      "  warnings.warn(\"Maximum Likelihood optimization failed to \"\n"
     ]
    },
    {
     "name": "stdout",
     "output_type": "stream",
     "text": [
      "Order = (p=4, q=2)\n",
      "AIC:  -5062.283902487827\n",
      "BIC:  -4684.57448209686\n",
      "\n"
     ]
    },
    {
     "name": "stderr",
     "output_type": "stream",
     "text": [
      "D:\\APPS\\Anaconda\\envs\\aiml\\lib\\site-packages\\statsmodels\\tsa\\statespace\\varmax.py:161: EstimationWarning: Estimation of VARMA(p,q) models is not generically robust, due especially to identification issues.\n",
      "  warn('Estimation of VARMA(p,q) models is not generically robust,'\n"
     ]
    },
    {
     "name": "stdout",
     "output_type": "stream",
     "text": [
      "Order = (p=4, q=3)\n",
      "AIC:  -5030.254968351319\n",
      "BIC:  -4597.605995903485\n",
      "\n"
     ]
    },
    {
     "name": "stderr",
     "output_type": "stream",
     "text": [
      "D:\\APPS\\Anaconda\\envs\\aiml\\lib\\site-packages\\statsmodels\\tsa\\statespace\\varmax.py:161: EstimationWarning: Estimation of VARMA(p,q) models is not generically robust, due especially to identification issues.\n",
      "  warn('Estimation of VARMA(p,q) models is not generically robust,'\n",
      "D:\\APPS\\Anaconda\\envs\\aiml\\lib\\site-packages\\statsmodels\\base\\model.py:607: ConvergenceWarning: Maximum Likelihood optimization failed to converge. Check mle_retvals\n",
      "  warnings.warn(\"Maximum Likelihood optimization failed to \"\n"
     ]
    },
    {
     "name": "stdout",
     "output_type": "stream",
     "text": [
      "Order = (p=5, q=1)\n",
      "AIC:  720842880.221978\n",
      "BIC:  720843257.9313984\n",
      "\n"
     ]
    },
    {
     "name": "stderr",
     "output_type": "stream",
     "text": [
      "D:\\APPS\\Anaconda\\envs\\aiml\\lib\\site-packages\\statsmodels\\tsa\\statespace\\varmax.py:161: EstimationWarning: Estimation of VARMA(p,q) models is not generically robust, due especially to identification issues.\n",
      "  warn('Estimation of VARMA(p,q) models is not generically robust,'\n",
      "D:\\APPS\\Anaconda\\envs\\aiml\\lib\\site-packages\\statsmodels\\base\\model.py:607: ConvergenceWarning: Maximum Likelihood optimization failed to converge. Check mle_retvals\n",
      "  warnings.warn(\"Maximum Likelihood optimization failed to \"\n"
     ]
    },
    {
     "name": "stdout",
     "output_type": "stream",
     "text": [
      "Order = (p=5, q=2)\n",
      "AIC:  724115215.6330069\n",
      "BIC:  724115648.2819793\n",
      "\n"
     ]
    },
    {
     "name": "stderr",
     "output_type": "stream",
     "text": [
      "D:\\APPS\\Anaconda\\envs\\aiml\\lib\\site-packages\\statsmodels\\tsa\\statespace\\varmax.py:161: EstimationWarning: Estimation of VARMA(p,q) models is not generically robust, due especially to identification issues.\n",
      "  warn('Estimation of VARMA(p,q) models is not generically robust,'\n",
      "D:\\APPS\\Anaconda\\envs\\aiml\\lib\\site-packages\\statsmodels\\base\\model.py:607: ConvergenceWarning: Maximum Likelihood optimization failed to converge. Check mle_retvals\n",
      "  warnings.warn(\"Maximum Likelihood optimization failed to \"\n"
     ]
    },
    {
     "name": "stdout",
     "output_type": "stream",
     "text": [
      "Order = (p=5, q=3)\n",
      "AIC:  743805839.1588163\n",
      "BIC:  743806326.7473408\n",
      "\n",
      "Best Model (based on RMSE):\n",
      "Order (p, q): (1, 1)\n",
      "RMSE: 0\n",
      "MAPE: 114452805332722.64\n"
     ]
    },
    {
     "name": "stderr",
     "output_type": "stream",
     "text": [
      "D:\\APPS\\Anaconda\\envs\\aiml\\lib\\site-packages\\statsmodels\\tsa\\statespace\\varmax.py:161: EstimationWarning: Estimation of VARMA(p,q) models is not generically robust, due especially to identification issues.\n",
      "  warn('Estimation of VARMA(p,q) models is not generically robust,'\n"
     ]
    }
   ],
   "source": [
    "perf,best_res,best_pre, test=combination(data1, listt)"
   ]
  },
  {
   "cell_type": "code",
   "execution_count": 23,
   "id": "6430ad08-cb0c-4f7d-a908-d92df67a4e8b",
   "metadata": {},
   "outputs": [
    {
     "name": "stdout",
     "output_type": "stream",
     "text": [
      "['Close', 'High', 'Open', 'Low']\n"
     ]
    },
    {
     "name": "stderr",
     "output_type": "stream",
     "text": [
      "D:\\APPS\\Anaconda\\envs\\aiml\\lib\\site-packages\\statsmodels\\tsa\\statespace\\varmax.py:161: EstimationWarning: Estimation of VARMA(p,q) models is not generically robust, due especially to identification issues.\n",
      "  warn('Estimation of VARMA(p,q) models is not generically robust,'\n"
     ]
    },
    {
     "name": "stdout",
     "output_type": "stream",
     "text": [
      "Order = (p=1, q=1)\n",
      "AIC:  -5137.337406578367\n",
      "BIC:  -4979.386194414872\n",
      "\n"
     ]
    },
    {
     "name": "stderr",
     "output_type": "stream",
     "text": [
      "D:\\APPS\\Anaconda\\envs\\aiml\\lib\\site-packages\\statsmodels\\tsa\\statespace\\varmax.py:161: EstimationWarning: Estimation of VARMA(p,q) models is not generically robust, due especially to identification issues.\n",
      "  warn('Estimation of VARMA(p,q) models is not generically robust,'\n",
      "D:\\APPS\\Anaconda\\envs\\aiml\\lib\\site-packages\\statsmodels\\base\\model.py:607: ConvergenceWarning: Maximum Likelihood optimization failed to converge. Check mle_retvals\n",
      "  warnings.warn(\"Maximum Likelihood optimization failed to \"\n"
     ]
    },
    {
     "name": "stdout",
     "output_type": "stream",
     "text": [
      "Order = (p=1, q=2)\n",
      "AIC:  -5121.024553942314\n",
      "BIC:  -4908.133789721951\n",
      "\n"
     ]
    },
    {
     "name": "stderr",
     "output_type": "stream",
     "text": [
      "D:\\APPS\\Anaconda\\envs\\aiml\\lib\\site-packages\\statsmodels\\tsa\\statespace\\varmax.py:161: EstimationWarning: Estimation of VARMA(p,q) models is not generically robust, due especially to identification issues.\n",
      "  warn('Estimation of VARMA(p,q) models is not generically robust,'\n"
     ]
    },
    {
     "name": "stdout",
     "output_type": "stream",
     "text": [
      "Order = (p=1, q=3)\n",
      "AIC:  -5109.567257971672\n",
      "BIC:  -4841.736941694441\n",
      "\n"
     ]
    },
    {
     "name": "stderr",
     "output_type": "stream",
     "text": [
      "D:\\APPS\\Anaconda\\envs\\aiml\\lib\\site-packages\\statsmodels\\tsa\\statespace\\varmax.py:161: EstimationWarning: Estimation of VARMA(p,q) models is not generically robust, due especially to identification issues.\n",
      "  warn('Estimation of VARMA(p,q) models is not generically robust,'\n"
     ]
    },
    {
     "name": "stdout",
     "output_type": "stream",
     "text": [
      "Order = (p=2, q=1)\n",
      "AIC:  -5117.216261578836\n",
      "BIC:  -4904.325497358473\n",
      "\n"
     ]
    },
    {
     "name": "stderr",
     "output_type": "stream",
     "text": [
      "D:\\APPS\\Anaconda\\envs\\aiml\\lib\\site-packages\\statsmodels\\tsa\\statespace\\varmax.py:161: EstimationWarning: Estimation of VARMA(p,q) models is not generically robust, due especially to identification issues.\n",
      "  warn('Estimation of VARMA(p,q) models is not generically robust,'\n",
      "D:\\APPS\\Anaconda\\envs\\aiml\\lib\\site-packages\\statsmodels\\base\\model.py:607: ConvergenceWarning: Maximum Likelihood optimization failed to converge. Check mle_retvals\n",
      "  warnings.warn(\"Maximum Likelihood optimization failed to \"\n"
     ]
    },
    {
     "name": "stdout",
     "output_type": "stream",
     "text": [
      "Order = (p=2, q=2)\n",
      "AIC:  -5090.00908985446\n",
      "BIC:  -4822.17877357723\n",
      "\n"
     ]
    },
    {
     "name": "stderr",
     "output_type": "stream",
     "text": [
      "D:\\APPS\\Anaconda\\envs\\aiml\\lib\\site-packages\\statsmodels\\tsa\\statespace\\varmax.py:161: EstimationWarning: Estimation of VARMA(p,q) models is not generically robust, due especially to identification issues.\n",
      "  warn('Estimation of VARMA(p,q) models is not generically robust,'\n",
      "D:\\APPS\\Anaconda\\envs\\aiml\\lib\\site-packages\\statsmodels\\base\\model.py:607: ConvergenceWarning: Maximum Likelihood optimization failed to converge. Check mle_retvals\n",
      "  warnings.warn(\"Maximum Likelihood optimization failed to \"\n"
     ]
    },
    {
     "name": "stdout",
     "output_type": "stream",
     "text": [
      "Order = (p=2, q=3)\n",
      "AIC:  -5080.04324696631\n",
      "BIC:  -4757.2733786322115\n",
      "\n"
     ]
    },
    {
     "name": "stderr",
     "output_type": "stream",
     "text": [
      "D:\\APPS\\Anaconda\\envs\\aiml\\lib\\site-packages\\statsmodels\\tsa\\statespace\\varmax.py:161: EstimationWarning: Estimation of VARMA(p,q) models is not generically robust, due especially to identification issues.\n",
      "  warn('Estimation of VARMA(p,q) models is not generically robust,'\n"
     ]
    },
    {
     "name": "stdout",
     "output_type": "stream",
     "text": [
      "Order = (p=3, q=1)\n",
      "AIC:  -5115.294595421629\n",
      "BIC:  -4847.4642791443985\n",
      "\n"
     ]
    },
    {
     "name": "stderr",
     "output_type": "stream",
     "text": [
      "D:\\APPS\\Anaconda\\envs\\aiml\\lib\\site-packages\\statsmodels\\tsa\\statespace\\varmax.py:161: EstimationWarning: Estimation of VARMA(p,q) models is not generically robust, due especially to identification issues.\n",
      "  warn('Estimation of VARMA(p,q) models is not generically robust,'\n"
     ]
    },
    {
     "name": "stdout",
     "output_type": "stream",
     "text": [
      "Order = (p=3, q=2)\n",
      "AIC:  -5083.558700901383\n",
      "BIC:  -4760.788832567285\n",
      "\n"
     ]
    },
    {
     "name": "stderr",
     "output_type": "stream",
     "text": [
      "D:\\APPS\\Anaconda\\envs\\aiml\\lib\\site-packages\\statsmodels\\tsa\\statespace\\varmax.py:161: EstimationWarning: Estimation of VARMA(p,q) models is not generically robust, due especially to identification issues.\n",
      "  warn('Estimation of VARMA(p,q) models is not generically robust,'\n",
      "D:\\APPS\\Anaconda\\envs\\aiml\\lib\\site-packages\\statsmodels\\base\\model.py:607: ConvergenceWarning: Maximum Likelihood optimization failed to converge. Check mle_retvals\n",
      "  warnings.warn(\"Maximum Likelihood optimization failed to \"\n"
     ]
    },
    {
     "name": "stdout",
     "output_type": "stream",
     "text": [
      "Order = (p=3, q=3)\n",
      "AIC:  -5054.977389489948\n",
      "BIC:  -4677.267969098982\n",
      "\n"
     ]
    },
    {
     "name": "stderr",
     "output_type": "stream",
     "text": [
      "D:\\APPS\\Anaconda\\envs\\aiml\\lib\\site-packages\\statsmodels\\tsa\\statespace\\varmax.py:161: EstimationWarning: Estimation of VARMA(p,q) models is not generically robust, due especially to identification issues.\n",
      "  warn('Estimation of VARMA(p,q) models is not generically robust,'\n"
     ]
    },
    {
     "name": "stdout",
     "output_type": "stream",
     "text": [
      "Order = (p=4, q=1)\n",
      "AIC:  -5093.348967621076\n",
      "BIC:  -4770.579099286977\n",
      "\n"
     ]
    },
    {
     "name": "stderr",
     "output_type": "stream",
     "text": [
      "D:\\APPS\\Anaconda\\envs\\aiml\\lib\\site-packages\\statsmodels\\tsa\\statespace\\varmax.py:161: EstimationWarning: Estimation of VARMA(p,q) models is not generically robust, due especially to identification issues.\n",
      "  warn('Estimation of VARMA(p,q) models is not generically robust,'\n",
      "D:\\APPS\\Anaconda\\envs\\aiml\\lib\\site-packages\\statsmodels\\base\\model.py:607: ConvergenceWarning: Maximum Likelihood optimization failed to converge. Check mle_retvals\n",
      "  warnings.warn(\"Maximum Likelihood optimization failed to \"\n"
     ]
    },
    {
     "name": "stdout",
     "output_type": "stream",
     "text": [
      "Order = (p=4, q=2)\n",
      "AIC:  -5062.283902487827\n",
      "BIC:  -4684.57448209686\n",
      "\n"
     ]
    },
    {
     "name": "stderr",
     "output_type": "stream",
     "text": [
      "D:\\APPS\\Anaconda\\envs\\aiml\\lib\\site-packages\\statsmodels\\tsa\\statespace\\varmax.py:161: EstimationWarning: Estimation of VARMA(p,q) models is not generically robust, due especially to identification issues.\n",
      "  warn('Estimation of VARMA(p,q) models is not generically robust,'\n"
     ]
    },
    {
     "name": "stdout",
     "output_type": "stream",
     "text": [
      "Order = (p=4, q=3)\n",
      "AIC:  -5030.254968351319\n",
      "BIC:  -4597.605995903485\n",
      "\n"
     ]
    },
    {
     "name": "stderr",
     "output_type": "stream",
     "text": [
      "D:\\APPS\\Anaconda\\envs\\aiml\\lib\\site-packages\\statsmodels\\tsa\\statespace\\varmax.py:161: EstimationWarning: Estimation of VARMA(p,q) models is not generically robust, due especially to identification issues.\n",
      "  warn('Estimation of VARMA(p,q) models is not generically robust,'\n",
      "D:\\APPS\\Anaconda\\envs\\aiml\\lib\\site-packages\\statsmodels\\base\\model.py:607: ConvergenceWarning: Maximum Likelihood optimization failed to converge. Check mle_retvals\n",
      "  warnings.warn(\"Maximum Likelihood optimization failed to \"\n"
     ]
    },
    {
     "name": "stdout",
     "output_type": "stream",
     "text": [
      "Order = (p=5, q=1)\n",
      "AIC:  720842880.221978\n",
      "BIC:  720843257.9313984\n",
      "\n"
     ]
    },
    {
     "name": "stderr",
     "output_type": "stream",
     "text": [
      "D:\\APPS\\Anaconda\\envs\\aiml\\lib\\site-packages\\statsmodels\\tsa\\statespace\\varmax.py:161: EstimationWarning: Estimation of VARMA(p,q) models is not generically robust, due especially to identification issues.\n",
      "  warn('Estimation of VARMA(p,q) models is not generically robust,'\n",
      "D:\\APPS\\Anaconda\\envs\\aiml\\lib\\site-packages\\statsmodels\\base\\model.py:607: ConvergenceWarning: Maximum Likelihood optimization failed to converge. Check mle_retvals\n",
      "  warnings.warn(\"Maximum Likelihood optimization failed to \"\n"
     ]
    },
    {
     "name": "stdout",
     "output_type": "stream",
     "text": [
      "Order = (p=5, q=2)\n",
      "AIC:  724115215.6330069\n",
      "BIC:  724115648.2819793\n",
      "\n"
     ]
    },
    {
     "name": "stderr",
     "output_type": "stream",
     "text": [
      "D:\\APPS\\Anaconda\\envs\\aiml\\lib\\site-packages\\statsmodels\\tsa\\statespace\\varmax.py:161: EstimationWarning: Estimation of VARMA(p,q) models is not generically robust, due especially to identification issues.\n",
      "  warn('Estimation of VARMA(p,q) models is not generically robust,'\n",
      "D:\\APPS\\Anaconda\\envs\\aiml\\lib\\site-packages\\statsmodels\\base\\model.py:607: ConvergenceWarning: Maximum Likelihood optimization failed to converge. Check mle_retvals\n",
      "  warnings.warn(\"Maximum Likelihood optimization failed to \"\n"
     ]
    },
    {
     "name": "stdout",
     "output_type": "stream",
     "text": [
      "Order = (p=5, q=3)\n",
      "AIC:  743805839.1588163\n",
      "BIC:  743806326.7473408\n",
      "\n",
      "Best Model (based on RMSE):\n",
      "Order (p, q): (1, 1)\n",
      "RMSE: 0\n",
      "MAPE: 114452805332722.64\n"
     ]
    },
    {
     "name": "stderr",
     "output_type": "stream",
     "text": [
      "D:\\APPS\\Anaconda\\envs\\aiml\\lib\\site-packages\\statsmodels\\tsa\\statespace\\varmax.py:161: EstimationWarning: Estimation of VARMA(p,q) models is not generically robust, due especially to identification issues.\n",
      "  warn('Estimation of VARMA(p,q) models is not generically robust,'\n"
     ]
    }
   ],
   "source": [
    "perf,best_res,best_pre, test=combination(data1, listt)"
   ]
  },
  {
   "cell_type": "code",
   "execution_count": 16,
   "id": "14a31d8b-a634-48d7-9dad-603c83e81d87",
   "metadata": {},
   "outputs": [
    {
     "data": {
      "text/html": [
       "<div>\n",
       "<style scoped>\n",
       "    .dataframe tbody tr th:only-of-type {\n",
       "        vertical-align: middle;\n",
       "    }\n",
       "\n",
       "    .dataframe tbody tr th {\n",
       "        vertical-align: top;\n",
       "    }\n",
       "\n",
       "    .dataframe thead th {\n",
       "        text-align: right;\n",
       "    }\n",
       "</style>\n",
       "<table border=\"1\" class=\"dataframe\">\n",
       "  <thead>\n",
       "    <tr style=\"text-align: right;\">\n",
       "      <th></th>\n",
       "      <th>Model</th>\n",
       "      <th>RMSE</th>\n",
       "      <th>MAPE</th>\n",
       "      <th>Lag</th>\n",
       "      <th>Test</th>\n",
       "    </tr>\n",
       "  </thead>\n",
       "  <tbody>\n",
       "    <tr>\n",
       "      <th>0</th>\n",
       "      <td>[Close, High, Open, Low]</td>\n",
       "      <td>0</td>\n",
       "      <td>1.144528e+14</td>\n",
       "      <td>(1, 1)</td>\n",
       "      <td>28</td>\n",
       "    </tr>\n",
       "  </tbody>\n",
       "</table>\n",
       "</div>"
      ],
      "text/plain": [
       "                      Model  RMSE          MAPE     Lag  Test\n",
       "0  [Close, High, Open, Low]     0  1.144528e+14  (1, 1)    28"
      ]
     },
     "execution_count": 16,
     "metadata": {},
     "output_type": "execute_result"
    }
   ],
   "source": [
    "perf"
   ]
  },
  {
   "cell_type": "code",
   "execution_count": 17,
   "id": "8f09b72c-4cf7-48e4-9859-252e7733306f",
   "metadata": {},
   "outputs": [
    {
     "data": {
      "text/plain": [
       "<statsmodels.tsa.statespace.varmax.VARMAXResultsWrapper at 0x2903c756bc0>"
      ]
     },
     "execution_count": 17,
     "metadata": {},
     "output_type": "execute_result"
    }
   ],
   "source": [
    "best_res"
   ]
  },
  {
   "cell_type": "code",
   "execution_count": 18,
   "id": "8ddf24c8-f510-431f-ae7f-df77a5adcc26",
   "metadata": {},
   "outputs": [
    {
     "data": {
      "text/html": [
       "<div>\n",
       "<style scoped>\n",
       "    .dataframe tbody tr th:only-of-type {\n",
       "        vertical-align: middle;\n",
       "    }\n",
       "\n",
       "    .dataframe tbody tr th {\n",
       "        vertical-align: top;\n",
       "    }\n",
       "\n",
       "    .dataframe thead th {\n",
       "        text-align: right;\n",
       "    }\n",
       "</style>\n",
       "<table border=\"1\" class=\"dataframe\">\n",
       "  <thead>\n",
       "    <tr style=\"text-align: right;\">\n",
       "      <th></th>\n",
       "      <th>Close</th>\n",
       "      <th>High</th>\n",
       "      <th>Open</th>\n",
       "      <th>Low</th>\n",
       "    </tr>\n",
       "  </thead>\n",
       "  <tbody>\n",
       "    <tr>\n",
       "      <th>229</th>\n",
       "      <td>0.758819</td>\n",
       "      <td>0.742003</td>\n",
       "      <td>0.751132</td>\n",
       "      <td>0.759638</td>\n",
       "    </tr>\n",
       "    <tr>\n",
       "      <th>230</th>\n",
       "      <td>0.755773</td>\n",
       "      <td>0.741384</td>\n",
       "      <td>0.745053</td>\n",
       "      <td>0.753810</td>\n",
       "    </tr>\n",
       "    <tr>\n",
       "      <th>231</th>\n",
       "      <td>0.753466</td>\n",
       "      <td>0.739215</td>\n",
       "      <td>0.741470</td>\n",
       "      <td>0.750586</td>\n",
       "    </tr>\n",
       "    <tr>\n",
       "      <th>232</th>\n",
       "      <td>0.751313</td>\n",
       "      <td>0.736949</td>\n",
       "      <td>0.738878</td>\n",
       "      <td>0.748258</td>\n",
       "    </tr>\n",
       "    <tr>\n",
       "      <th>233</th>\n",
       "      <td>0.749216</td>\n",
       "      <td>0.734703</td>\n",
       "      <td>0.736553</td>\n",
       "      <td>0.746154</td>\n",
       "    </tr>\n",
       "    <tr>\n",
       "      <th>234</th>\n",
       "      <td>0.747153</td>\n",
       "      <td>0.732489</td>\n",
       "      <td>0.734312</td>\n",
       "      <td>0.744121</td>\n",
       "    </tr>\n",
       "    <tr>\n",
       "      <th>235</th>\n",
       "      <td>0.745119</td>\n",
       "      <td>0.730304</td>\n",
       "      <td>0.732112</td>\n",
       "      <td>0.742123</td>\n",
       "    </tr>\n",
       "    <tr>\n",
       "      <th>236</th>\n",
       "      <td>0.743113</td>\n",
       "      <td>0.728149</td>\n",
       "      <td>0.729944</td>\n",
       "      <td>0.740153</td>\n",
       "    </tr>\n",
       "    <tr>\n",
       "      <th>237</th>\n",
       "      <td>0.741133</td>\n",
       "      <td>0.726022</td>\n",
       "      <td>0.727805</td>\n",
       "      <td>0.738210</td>\n",
       "    </tr>\n",
       "    <tr>\n",
       "      <th>238</th>\n",
       "      <td>0.739179</td>\n",
       "      <td>0.723924</td>\n",
       "      <td>0.725694</td>\n",
       "      <td>0.736292</td>\n",
       "    </tr>\n",
       "    <tr>\n",
       "      <th>239</th>\n",
       "      <td>0.737251</td>\n",
       "      <td>0.721853</td>\n",
       "      <td>0.723612</td>\n",
       "      <td>0.734400</td>\n",
       "    </tr>\n",
       "    <tr>\n",
       "      <th>240</th>\n",
       "      <td>0.735349</td>\n",
       "      <td>0.719810</td>\n",
       "      <td>0.721557</td>\n",
       "      <td>0.732534</td>\n",
       "    </tr>\n",
       "    <tr>\n",
       "      <th>241</th>\n",
       "      <td>0.733472</td>\n",
       "      <td>0.717795</td>\n",
       "      <td>0.719530</td>\n",
       "      <td>0.730692</td>\n",
       "    </tr>\n",
       "    <tr>\n",
       "      <th>242</th>\n",
       "      <td>0.731620</td>\n",
       "      <td>0.715806</td>\n",
       "      <td>0.717530</td>\n",
       "      <td>0.728874</td>\n",
       "    </tr>\n",
       "    <tr>\n",
       "      <th>243</th>\n",
       "      <td>0.729793</td>\n",
       "      <td>0.713843</td>\n",
       "      <td>0.715556</td>\n",
       "      <td>0.727081</td>\n",
       "    </tr>\n",
       "    <tr>\n",
       "      <th>244</th>\n",
       "      <td>0.727990</td>\n",
       "      <td>0.711906</td>\n",
       "      <td>0.713608</td>\n",
       "      <td>0.725312</td>\n",
       "    </tr>\n",
       "    <tr>\n",
       "      <th>245</th>\n",
       "      <td>0.726211</td>\n",
       "      <td>0.709996</td>\n",
       "      <td>0.711687</td>\n",
       "      <td>0.723566</td>\n",
       "    </tr>\n",
       "    <tr>\n",
       "      <th>246</th>\n",
       "      <td>0.724455</td>\n",
       "      <td>0.708110</td>\n",
       "      <td>0.709790</td>\n",
       "      <td>0.721843</td>\n",
       "    </tr>\n",
       "    <tr>\n",
       "      <th>247</th>\n",
       "      <td>0.722723</td>\n",
       "      <td>0.706250</td>\n",
       "      <td>0.707919</td>\n",
       "      <td>0.720143</td>\n",
       "    </tr>\n",
       "    <tr>\n",
       "      <th>248</th>\n",
       "      <td>0.721014</td>\n",
       "      <td>0.704415</td>\n",
       "      <td>0.706073</td>\n",
       "      <td>0.718466</td>\n",
       "    </tr>\n",
       "    <tr>\n",
       "      <th>249</th>\n",
       "      <td>0.719328</td>\n",
       "      <td>0.702603</td>\n",
       "      <td>0.704252</td>\n",
       "      <td>0.716811</td>\n",
       "    </tr>\n",
       "    <tr>\n",
       "      <th>250</th>\n",
       "      <td>0.717664</td>\n",
       "      <td>0.700816</td>\n",
       "      <td>0.702454</td>\n",
       "      <td>0.715178</td>\n",
       "    </tr>\n",
       "    <tr>\n",
       "      <th>251</th>\n",
       "      <td>0.716022</td>\n",
       "      <td>0.699053</td>\n",
       "      <td>0.700681</td>\n",
       "      <td>0.713567</td>\n",
       "    </tr>\n",
       "    <tr>\n",
       "      <th>252</th>\n",
       "      <td>0.714402</td>\n",
       "      <td>0.697313</td>\n",
       "      <td>0.698931</td>\n",
       "      <td>0.711977</td>\n",
       "    </tr>\n",
       "    <tr>\n",
       "      <th>253</th>\n",
       "      <td>0.712804</td>\n",
       "      <td>0.695596</td>\n",
       "      <td>0.697205</td>\n",
       "      <td>0.710408</td>\n",
       "    </tr>\n",
       "    <tr>\n",
       "      <th>254</th>\n",
       "      <td>0.711227</td>\n",
       "      <td>0.693902</td>\n",
       "      <td>0.695501</td>\n",
       "      <td>0.708861</td>\n",
       "    </tr>\n",
       "    <tr>\n",
       "      <th>255</th>\n",
       "      <td>0.709670</td>\n",
       "      <td>0.692231</td>\n",
       "      <td>0.693820</td>\n",
       "      <td>0.707333</td>\n",
       "    </tr>\n",
       "    <tr>\n",
       "      <th>256</th>\n",
       "      <td>0.708135</td>\n",
       "      <td>0.690582</td>\n",
       "      <td>0.692161</td>\n",
       "      <td>0.705826</td>\n",
       "    </tr>\n",
       "  </tbody>\n",
       "</table>\n",
       "</div>"
      ],
      "text/plain": [
       "        Close      High      Open       Low\n",
       "229  0.758819  0.742003  0.751132  0.759638\n",
       "230  0.755773  0.741384  0.745053  0.753810\n",
       "231  0.753466  0.739215  0.741470  0.750586\n",
       "232  0.751313  0.736949  0.738878  0.748258\n",
       "233  0.749216  0.734703  0.736553  0.746154\n",
       "234  0.747153  0.732489  0.734312  0.744121\n",
       "235  0.745119  0.730304  0.732112  0.742123\n",
       "236  0.743113  0.728149  0.729944  0.740153\n",
       "237  0.741133  0.726022  0.727805  0.738210\n",
       "238  0.739179  0.723924  0.725694  0.736292\n",
       "239  0.737251  0.721853  0.723612  0.734400\n",
       "240  0.735349  0.719810  0.721557  0.732534\n",
       "241  0.733472  0.717795  0.719530  0.730692\n",
       "242  0.731620  0.715806  0.717530  0.728874\n",
       "243  0.729793  0.713843  0.715556  0.727081\n",
       "244  0.727990  0.711906  0.713608  0.725312\n",
       "245  0.726211  0.709996  0.711687  0.723566\n",
       "246  0.724455  0.708110  0.709790  0.721843\n",
       "247  0.722723  0.706250  0.707919  0.720143\n",
       "248  0.721014  0.704415  0.706073  0.718466\n",
       "249  0.719328  0.702603  0.704252  0.716811\n",
       "250  0.717664  0.700816  0.702454  0.715178\n",
       "251  0.716022  0.699053  0.700681  0.713567\n",
       "252  0.714402  0.697313  0.698931  0.711977\n",
       "253  0.712804  0.695596  0.697205  0.710408\n",
       "254  0.711227  0.693902  0.695501  0.708861\n",
       "255  0.709670  0.692231  0.693820  0.707333\n",
       "256  0.708135  0.690582  0.692161  0.705826"
      ]
     },
     "execution_count": 18,
     "metadata": {},
     "output_type": "execute_result"
    }
   ],
   "source": [
    "best_pre"
   ]
  },
  {
   "cell_type": "code",
   "execution_count": 20,
   "id": "080c3114-d51a-4db1-887a-1abc684eb865",
   "metadata": {},
   "outputs": [
    {
     "data": {
      "text/html": [
       "<div>\n",
       "<style scoped>\n",
       "    .dataframe tbody tr th:only-of-type {\n",
       "        vertical-align: middle;\n",
       "    }\n",
       "\n",
       "    .dataframe tbody tr th {\n",
       "        vertical-align: top;\n",
       "    }\n",
       "\n",
       "    .dataframe thead th {\n",
       "        text-align: right;\n",
       "    }\n",
       "</style>\n",
       "<table border=\"1\" class=\"dataframe\">\n",
       "  <thead>\n",
       "    <tr style=\"text-align: right;\">\n",
       "      <th></th>\n",
       "      <th>Open</th>\n",
       "      <th>High</th>\n",
       "      <th>Low</th>\n",
       "      <th>Close</th>\n",
       "    </tr>\n",
       "  </thead>\n",
       "  <tbody>\n",
       "    <tr>\n",
       "      <th>0</th>\n",
       "      <td>0.504712</td>\n",
       "      <td>0.510162</td>\n",
       "      <td>0.538714</td>\n",
       "      <td>0.540197</td>\n",
       "    </tr>\n",
       "    <tr>\n",
       "      <th>1</th>\n",
       "      <td>0.521332</td>\n",
       "      <td>0.542896</td>\n",
       "      <td>0.560231</td>\n",
       "      <td>0.567668</td>\n",
       "    </tr>\n",
       "    <tr>\n",
       "      <th>2</th>\n",
       "      <td>0.547313</td>\n",
       "      <td>0.527189</td>\n",
       "      <td>0.558169</td>\n",
       "      <td>0.541432</td>\n",
       "    </tr>\n",
       "    <tr>\n",
       "      <th>3</th>\n",
       "      <td>0.514328</td>\n",
       "      <td>0.555461</td>\n",
       "      <td>0.555987</td>\n",
       "      <td>0.579716</td>\n",
       "    </tr>\n",
       "    <tr>\n",
       "      <th>4</th>\n",
       "      <td>0.553967</td>\n",
       "      <td>0.539629</td>\n",
       "      <td>0.579804</td>\n",
       "      <td>0.575590</td>\n",
       "    </tr>\n",
       "    <tr>\n",
       "      <th>...</th>\n",
       "      <td>...</td>\n",
       "      <td>...</td>\n",
       "      <td>...</td>\n",
       "      <td>...</td>\n",
       "    </tr>\n",
       "    <tr>\n",
       "      <th>252</th>\n",
       "      <td>0.075459</td>\n",
       "      <td>0.141488</td>\n",
       "      <td>0.139677</td>\n",
       "      <td>0.203139</td>\n",
       "    </tr>\n",
       "    <tr>\n",
       "      <th>253</th>\n",
       "      <td>0.174128</td>\n",
       "      <td>0.238181</td>\n",
       "      <td>0.221379</td>\n",
       "      <td>0.293473</td>\n",
       "    </tr>\n",
       "    <tr>\n",
       "      <th>254</th>\n",
       "      <td>0.222810</td>\n",
       "      <td>0.217761</td>\n",
       "      <td>0.224188</td>\n",
       "      <td>0.210187</td>\n",
       "    </tr>\n",
       "    <tr>\n",
       "      <th>255</th>\n",
       "      <td>0.137449</td>\n",
       "      <td>0.146389</td>\n",
       "      <td>0.157846</td>\n",
       "      <td>0.138257</td>\n",
       "    </tr>\n",
       "    <tr>\n",
       "      <th>256</th>\n",
       "      <td>0.092461</td>\n",
       "      <td>0.094587</td>\n",
       "      <td>0.135015</td>\n",
       "      <td>0.152023</td>\n",
       "    </tr>\n",
       "  </tbody>\n",
       "</table>\n",
       "<p>257 rows × 4 columns</p>\n",
       "</div>"
      ],
      "text/plain": [
       "         Open      High       Low     Close\n",
       "0    0.504712  0.510162  0.538714  0.540197\n",
       "1    0.521332  0.542896  0.560231  0.567668\n",
       "2    0.547313  0.527189  0.558169  0.541432\n",
       "3    0.514328  0.555461  0.555987  0.579716\n",
       "4    0.553967  0.539629  0.579804  0.575590\n",
       "..        ...       ...       ...       ...\n",
       "252  0.075459  0.141488  0.139677  0.203139\n",
       "253  0.174128  0.238181  0.221379  0.293473\n",
       "254  0.222810  0.217761  0.224188  0.210187\n",
       "255  0.137449  0.146389  0.157846  0.138257\n",
       "256  0.092461  0.094587  0.135015  0.152023\n",
       "\n",
       "[257 rows x 4 columns]"
      ]
     },
     "execution_count": 20,
     "metadata": {},
     "output_type": "execute_result"
    }
   ],
   "source": [
    "data1"
   ]
  },
  {
   "cell_type": "code",
   "execution_count": 25,
   "id": "a033d722-d050-424a-bc49-0568a74dceb1",
   "metadata": {},
   "outputs": [
    {
     "data": {
      "text/html": [
       "<div>\n",
       "<style scoped>\n",
       "    .dataframe tbody tr th:only-of-type {\n",
       "        vertical-align: middle;\n",
       "    }\n",
       "\n",
       "    .dataframe tbody tr th {\n",
       "        vertical-align: top;\n",
       "    }\n",
       "\n",
       "    .dataframe thead th {\n",
       "        text-align: right;\n",
       "    }\n",
       "</style>\n",
       "<table border=\"1\" class=\"dataframe\">\n",
       "  <thead>\n",
       "    <tr style=\"text-align: right;\">\n",
       "      <th></th>\n",
       "      <th>Open</th>\n",
       "      <th>High</th>\n",
       "      <th>Low</th>\n",
       "      <th>Close</th>\n",
       "    </tr>\n",
       "  </thead>\n",
       "  <tbody>\n",
       "    <tr>\n",
       "      <th>0</th>\n",
       "      <td>0.504712</td>\n",
       "      <td>0.510162</td>\n",
       "      <td>0.538714</td>\n",
       "      <td>0.540197</td>\n",
       "    </tr>\n",
       "    <tr>\n",
       "      <th>1</th>\n",
       "      <td>0.521332</td>\n",
       "      <td>0.542896</td>\n",
       "      <td>0.560231</td>\n",
       "      <td>0.567668</td>\n",
       "    </tr>\n",
       "    <tr>\n",
       "      <th>2</th>\n",
       "      <td>0.547313</td>\n",
       "      <td>0.527189</td>\n",
       "      <td>0.558169</td>\n",
       "      <td>0.541432</td>\n",
       "    </tr>\n",
       "    <tr>\n",
       "      <th>3</th>\n",
       "      <td>0.514328</td>\n",
       "      <td>0.555461</td>\n",
       "      <td>0.555987</td>\n",
       "      <td>0.579716</td>\n",
       "    </tr>\n",
       "    <tr>\n",
       "      <th>4</th>\n",
       "      <td>0.553967</td>\n",
       "      <td>0.539629</td>\n",
       "      <td>0.579804</td>\n",
       "      <td>0.575590</td>\n",
       "    </tr>\n",
       "    <tr>\n",
       "      <th>...</th>\n",
       "      <td>...</td>\n",
       "      <td>...</td>\n",
       "      <td>...</td>\n",
       "      <td>...</td>\n",
       "    </tr>\n",
       "    <tr>\n",
       "      <th>252</th>\n",
       "      <td>0.075459</td>\n",
       "      <td>0.141488</td>\n",
       "      <td>0.139677</td>\n",
       "      <td>0.203139</td>\n",
       "    </tr>\n",
       "    <tr>\n",
       "      <th>253</th>\n",
       "      <td>0.174128</td>\n",
       "      <td>0.238181</td>\n",
       "      <td>0.221379</td>\n",
       "      <td>0.293473</td>\n",
       "    </tr>\n",
       "    <tr>\n",
       "      <th>254</th>\n",
       "      <td>0.222810</td>\n",
       "      <td>0.217761</td>\n",
       "      <td>0.224188</td>\n",
       "      <td>0.210187</td>\n",
       "    </tr>\n",
       "    <tr>\n",
       "      <th>255</th>\n",
       "      <td>0.137449</td>\n",
       "      <td>0.146389</td>\n",
       "      <td>0.157846</td>\n",
       "      <td>0.138257</td>\n",
       "    </tr>\n",
       "    <tr>\n",
       "      <th>256</th>\n",
       "      <td>0.092461</td>\n",
       "      <td>0.094587</td>\n",
       "      <td>0.135015</td>\n",
       "      <td>0.152023</td>\n",
       "    </tr>\n",
       "  </tbody>\n",
       "</table>\n",
       "<p>257 rows × 4 columns</p>\n",
       "</div>"
      ],
      "text/plain": [
       "         Open      High       Low     Close\n",
       "0    0.504712  0.510162  0.538714  0.540197\n",
       "1    0.521332  0.542896  0.560231  0.567668\n",
       "2    0.547313  0.527189  0.558169  0.541432\n",
       "3    0.514328  0.555461  0.555987  0.579716\n",
       "4    0.553967  0.539629  0.579804  0.575590\n",
       "..        ...       ...       ...       ...\n",
       "252  0.075459  0.141488  0.139677  0.203139\n",
       "253  0.174128  0.238181  0.221379  0.293473\n",
       "254  0.222810  0.217761  0.224188  0.210187\n",
       "255  0.137449  0.146389  0.157846  0.138257\n",
       "256  0.092461  0.094587  0.135015  0.152023\n",
       "\n",
       "[257 rows x 4 columns]"
      ]
     },
     "execution_count": 25,
     "metadata": {},
     "output_type": "execute_result"
    }
   ],
   "source": [
    "data1"
   ]
  },
  {
   "cell_type": "code",
   "execution_count": 24,
   "id": "bdab677a-1d85-414f-ae70-7c180f029b42",
   "metadata": {},
   "outputs": [
    {
     "data": {
      "image/png": "[encoded data removed]",
      "text/plain": [
       "<Figure size 1000x500 with 1 Axes>"
      ]
     },
     "metadata": {},
     "output_type": "display_data"
    }
   ],
   "source": [
    "from matplotlib import pyplot as plt\n",
    "plt.figure(figsize=(10,5))\n",
    "plt.plot(test['Close'], color = 'blue', label=\"Actual\")\n",
    "plt.plot(best_pre['Close'], color = 'green', label =\"Predicted\")\n",
    "plt.title(\"NETFLIX_CLOSE_VARMA\")\n",
    "plt.xlabel(\"Days\")\n",
    "plt.ylabel(\"Prices\")\n",
    "plt.legend()\n",
    "plt.show()"
   ]
  }
 ],
 "metadata": {
  "kernelspec": {
   "display_name": "Python 3 (ipykernel)",
   "language": "python",
   "name": "python3"
  },
  "language_info": {
   "codemirror_mode": {
    "name": "ipython",
    "version": 3
   },
   "file_extension": ".py",
   "mimetype": "text/x-python",
   "name": "python",
   "nbconvert_exporter": "python",
   "pygments_lexer": "ipython3",
   "version": "3.10.13"
  }
 },
 "nbformat": 4,
 "nbformat_minor": 5
}
